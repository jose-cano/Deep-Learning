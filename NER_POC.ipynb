{
  "nbformat": 4,
  "nbformat_minor": 0,
  "metadata": {
    "colab": {
      "provenance": [],
      "authorship_tag": "ABX9TyP/71frlwETG2aq5JTAspgZ",
      "include_colab_link": true
    },
    "kernelspec": {
      "name": "python3",
      "display_name": "Python 3"
    },
    "language_info": {
      "name": "python"
    },
    "widgets": {
      "application/vnd.jupyter.widget-state+json": {
        "00fcb9a12c34452ea033982ed9b8dcd5": {
          "model_module": "@jupyter-widgets/controls",
          "model_name": "HBoxModel",
          "model_module_version": "1.5.0",
          "state": {
            "_dom_classes": [],
            "_model_module": "@jupyter-widgets/controls",
            "_model_module_version": "1.5.0",
            "_model_name": "HBoxModel",
            "_view_count": null,
            "_view_module": "@jupyter-widgets/controls",
            "_view_module_version": "1.5.0",
            "_view_name": "HBoxView",
            "box_style": "",
            "children": [
              "IPY_MODEL_88b03aa01dac4d1d84a3fbeec9f68bd4",
              "IPY_MODEL_77fa3518677c428791453fa7c406dea0",
              "IPY_MODEL_2ffe063a53104eb79e23c8936c0401e3"
            ],
            "layout": "IPY_MODEL_90161b4fca254ccda3c4b78733754386"
          }
        },
        "88b03aa01dac4d1d84a3fbeec9f68bd4": {
          "model_module": "@jupyter-widgets/controls",
          "model_name": "HTMLModel",
          "model_module_version": "1.5.0",
          "state": {
            "_dom_classes": [],
            "_model_module": "@jupyter-widgets/controls",
            "_model_module_version": "1.5.0",
            "_model_name": "HTMLModel",
            "_view_count": null,
            "_view_module": "@jupyter-widgets/controls",
            "_view_module_version": "1.5.0",
            "_view_name": "HTMLView",
            "description": "",
            "description_tooltip": null,
            "layout": "IPY_MODEL_d553d2ac06ca48278e12d0858ec48227",
            "placeholder": "​",
            "style": "IPY_MODEL_5f78cc88047e4a8fbb573cef8a20b076",
            "value": "model.safetensors: 100%"
          }
        },
        "77fa3518677c428791453fa7c406dea0": {
          "model_module": "@jupyter-widgets/controls",
          "model_name": "FloatProgressModel",
          "model_module_version": "1.5.0",
          "state": {
            "_dom_classes": [],
            "_model_module": "@jupyter-widgets/controls",
            "_model_module_version": "1.5.0",
            "_model_name": "FloatProgressModel",
            "_view_count": null,
            "_view_module": "@jupyter-widgets/controls",
            "_view_module_version": "1.5.0",
            "_view_name": "ProgressView",
            "bar_style": "success",
            "description": "",
            "description_tooltip": null,
            "layout": "IPY_MODEL_65514a2f28a14be9b28a1e06f37d5e17",
            "max": 263260784,
            "min": 0,
            "orientation": "horizontal",
            "style": "IPY_MODEL_4e4171ebda384e83b0b7034a8970123d",
            "value": 263260784
          }
        },
        "2ffe063a53104eb79e23c8936c0401e3": {
          "model_module": "@jupyter-widgets/controls",
          "model_name": "HTMLModel",
          "model_module_version": "1.5.0",
          "state": {
            "_dom_classes": [],
            "_model_module": "@jupyter-widgets/controls",
            "_model_module_version": "1.5.0",
            "_model_name": "HTMLModel",
            "_view_count": null,
            "_view_module": "@jupyter-widgets/controls",
            "_view_module_version": "1.5.0",
            "_view_name": "HTMLView",
            "description": "",
            "description_tooltip": null,
            "layout": "IPY_MODEL_073c6b25bf2f4d07aea2c638bb9a5601",
            "placeholder": "​",
            "style": "IPY_MODEL_204fb69bd70e45e38ea2c8694cb2598a",
            "value": " 263M/263M [00:02&lt;00:00, 138MB/s]"
          }
        },
        "90161b4fca254ccda3c4b78733754386": {
          "model_module": "@jupyter-widgets/base",
          "model_name": "LayoutModel",
          "model_module_version": "1.2.0",
          "state": {
            "_model_module": "@jupyter-widgets/base",
            "_model_module_version": "1.2.0",
            "_model_name": "LayoutModel",
            "_view_count": null,
            "_view_module": "@jupyter-widgets/base",
            "_view_module_version": "1.2.0",
            "_view_name": "LayoutView",
            "align_content": null,
            "align_items": null,
            "align_self": null,
            "border": null,
            "bottom": null,
            "display": null,
            "flex": null,
            "flex_flow": null,
            "grid_area": null,
            "grid_auto_columns": null,
            "grid_auto_flow": null,
            "grid_auto_rows": null,
            "grid_column": null,
            "grid_gap": null,
            "grid_row": null,
            "grid_template_areas": null,
            "grid_template_columns": null,
            "grid_template_rows": null,
            "height": null,
            "justify_content": null,
            "justify_items": null,
            "left": null,
            "margin": null,
            "max_height": null,
            "max_width": null,
            "min_height": null,
            "min_width": null,
            "object_fit": null,
            "object_position": null,
            "order": null,
            "overflow": null,
            "overflow_x": null,
            "overflow_y": null,
            "padding": null,
            "right": null,
            "top": null,
            "visibility": null,
            "width": null
          }
        },
        "d553d2ac06ca48278e12d0858ec48227": {
          "model_module": "@jupyter-widgets/base",
          "model_name": "LayoutModel",
          "model_module_version": "1.2.0",
          "state": {
            "_model_module": "@jupyter-widgets/base",
            "_model_module_version": "1.2.0",
            "_model_name": "LayoutModel",
            "_view_count": null,
            "_view_module": "@jupyter-widgets/base",
            "_view_module_version": "1.2.0",
            "_view_name": "LayoutView",
            "align_content": null,
            "align_items": null,
            "align_self": null,
            "border": null,
            "bottom": null,
            "display": null,
            "flex": null,
            "flex_flow": null,
            "grid_area": null,
            "grid_auto_columns": null,
            "grid_auto_flow": null,
            "grid_auto_rows": null,
            "grid_column": null,
            "grid_gap": null,
            "grid_row": null,
            "grid_template_areas": null,
            "grid_template_columns": null,
            "grid_template_rows": null,
            "height": null,
            "justify_content": null,
            "justify_items": null,
            "left": null,
            "margin": null,
            "max_height": null,
            "max_width": null,
            "min_height": null,
            "min_width": null,
            "object_fit": null,
            "object_position": null,
            "order": null,
            "overflow": null,
            "overflow_x": null,
            "overflow_y": null,
            "padding": null,
            "right": null,
            "top": null,
            "visibility": null,
            "width": null
          }
        },
        "5f78cc88047e4a8fbb573cef8a20b076": {
          "model_module": "@jupyter-widgets/controls",
          "model_name": "DescriptionStyleModel",
          "model_module_version": "1.5.0",
          "state": {
            "_model_module": "@jupyter-widgets/controls",
            "_model_module_version": "1.5.0",
            "_model_name": "DescriptionStyleModel",
            "_view_count": null,
            "_view_module": "@jupyter-widgets/base",
            "_view_module_version": "1.2.0",
            "_view_name": "StyleView",
            "description_width": ""
          }
        },
        "65514a2f28a14be9b28a1e06f37d5e17": {
          "model_module": "@jupyter-widgets/base",
          "model_name": "LayoutModel",
          "model_module_version": "1.2.0",
          "state": {
            "_model_module": "@jupyter-widgets/base",
            "_model_module_version": "1.2.0",
            "_model_name": "LayoutModel",
            "_view_count": null,
            "_view_module": "@jupyter-widgets/base",
            "_view_module_version": "1.2.0",
            "_view_name": "LayoutView",
            "align_content": null,
            "align_items": null,
            "align_self": null,
            "border": null,
            "bottom": null,
            "display": null,
            "flex": null,
            "flex_flow": null,
            "grid_area": null,
            "grid_auto_columns": null,
            "grid_auto_flow": null,
            "grid_auto_rows": null,
            "grid_column": null,
            "grid_gap": null,
            "grid_row": null,
            "grid_template_areas": null,
            "grid_template_columns": null,
            "grid_template_rows": null,
            "height": null,
            "justify_content": null,
            "justify_items": null,
            "left": null,
            "margin": null,
            "max_height": null,
            "max_width": null,
            "min_height": null,
            "min_width": null,
            "object_fit": null,
            "object_position": null,
            "order": null,
            "overflow": null,
            "overflow_x": null,
            "overflow_y": null,
            "padding": null,
            "right": null,
            "top": null,
            "visibility": null,
            "width": null
          }
        },
        "4e4171ebda384e83b0b7034a8970123d": {
          "model_module": "@jupyter-widgets/controls",
          "model_name": "ProgressStyleModel",
          "model_module_version": "1.5.0",
          "state": {
            "_model_module": "@jupyter-widgets/controls",
            "_model_module_version": "1.5.0",
            "_model_name": "ProgressStyleModel",
            "_view_count": null,
            "_view_module": "@jupyter-widgets/base",
            "_view_module_version": "1.2.0",
            "_view_name": "StyleView",
            "bar_color": null,
            "description_width": ""
          }
        },
        "073c6b25bf2f4d07aea2c638bb9a5601": {
          "model_module": "@jupyter-widgets/base",
          "model_name": "LayoutModel",
          "model_module_version": "1.2.0",
          "state": {
            "_model_module": "@jupyter-widgets/base",
            "_model_module_version": "1.2.0",
            "_model_name": "LayoutModel",
            "_view_count": null,
            "_view_module": "@jupyter-widgets/base",
            "_view_module_version": "1.2.0",
            "_view_name": "LayoutView",
            "align_content": null,
            "align_items": null,
            "align_self": null,
            "border": null,
            "bottom": null,
            "display": null,
            "flex": null,
            "flex_flow": null,
            "grid_area": null,
            "grid_auto_columns": null,
            "grid_auto_flow": null,
            "grid_auto_rows": null,
            "grid_column": null,
            "grid_gap": null,
            "grid_row": null,
            "grid_template_areas": null,
            "grid_template_columns": null,
            "grid_template_rows": null,
            "height": null,
            "justify_content": null,
            "justify_items": null,
            "left": null,
            "margin": null,
            "max_height": null,
            "max_width": null,
            "min_height": null,
            "min_width": null,
            "object_fit": null,
            "object_position": null,
            "order": null,
            "overflow": null,
            "overflow_x": null,
            "overflow_y": null,
            "padding": null,
            "right": null,
            "top": null,
            "visibility": null,
            "width": null
          }
        },
        "204fb69bd70e45e38ea2c8694cb2598a": {
          "model_module": "@jupyter-widgets/controls",
          "model_name": "DescriptionStyleModel",
          "model_module_version": "1.5.0",
          "state": {
            "_model_module": "@jupyter-widgets/controls",
            "_model_module_version": "1.5.0",
            "_model_name": "DescriptionStyleModel",
            "_view_count": null,
            "_view_module": "@jupyter-widgets/base",
            "_view_module_version": "1.2.0",
            "_view_name": "StyleView",
            "description_width": ""
          }
        },
        "2524a1dcf7934b31a900578aaef54006": {
          "model_module": "@jupyter-widgets/controls",
          "model_name": "HBoxModel",
          "model_module_version": "1.5.0",
          "state": {
            "_dom_classes": [],
            "_model_module": "@jupyter-widgets/controls",
            "_model_module_version": "1.5.0",
            "_model_name": "HBoxModel",
            "_view_count": null,
            "_view_module": "@jupyter-widgets/controls",
            "_view_module_version": "1.5.0",
            "_view_name": "HBoxView",
            "box_style": "",
            "children": [
              "IPY_MODEL_de6f6ff0364c487bb632a2b162b2ddf2",
              "IPY_MODEL_bf757d4b26974316aee09272372b3155",
              "IPY_MODEL_b1547d6dfd874fdbb27044161e725bf6"
            ],
            "layout": "IPY_MODEL_f4e314eb63614dc699f1f0c320bce842"
          }
        },
        "de6f6ff0364c487bb632a2b162b2ddf2": {
          "model_module": "@jupyter-widgets/controls",
          "model_name": "HTMLModel",
          "model_module_version": "1.5.0",
          "state": {
            "_dom_classes": [],
            "_model_module": "@jupyter-widgets/controls",
            "_model_module_version": "1.5.0",
            "_model_name": "HTMLModel",
            "_view_count": null,
            "_view_module": "@jupyter-widgets/controls",
            "_view_module_version": "1.5.0",
            "_view_name": "HTMLView",
            "description": "",
            "description_tooltip": null,
            "layout": "IPY_MODEL_9b1849846d8245e49c7f1143eb22ac36",
            "placeholder": "​",
            "style": "IPY_MODEL_3a4e0f26de534391a72eeea733414532",
            "value": "tokenizer_config.json: 100%"
          }
        },
        "bf757d4b26974316aee09272372b3155": {
          "model_module": "@jupyter-widgets/controls",
          "model_name": "FloatProgressModel",
          "model_module_version": "1.5.0",
          "state": {
            "_dom_classes": [],
            "_model_module": "@jupyter-widgets/controls",
            "_model_module_version": "1.5.0",
            "_model_name": "FloatProgressModel",
            "_view_count": null,
            "_view_module": "@jupyter-widgets/controls",
            "_view_module_version": "1.5.0",
            "_view_name": "ProgressView",
            "bar_style": "success",
            "description": "",
            "description_tooltip": null,
            "layout": "IPY_MODEL_db43bc1ec4c54daca597579fb900b3c9",
            "max": 29,
            "min": 0,
            "orientation": "horizontal",
            "style": "IPY_MODEL_7e0e6cb900424864933a2e9b1c3b03f2",
            "value": 29
          }
        },
        "b1547d6dfd874fdbb27044161e725bf6": {
          "model_module": "@jupyter-widgets/controls",
          "model_name": "HTMLModel",
          "model_module_version": "1.5.0",
          "state": {
            "_dom_classes": [],
            "_model_module": "@jupyter-widgets/controls",
            "_model_module_version": "1.5.0",
            "_model_name": "HTMLModel",
            "_view_count": null,
            "_view_module": "@jupyter-widgets/controls",
            "_view_module_version": "1.5.0",
            "_view_name": "HTMLView",
            "description": "",
            "description_tooltip": null,
            "layout": "IPY_MODEL_2211a2de07374b3fb18cec2964887122",
            "placeholder": "​",
            "style": "IPY_MODEL_002f21db28f14bfd981894073b231dd3",
            "value": " 29.0/29.0 [00:00&lt;00:00, 1.10kB/s]"
          }
        },
        "f4e314eb63614dc699f1f0c320bce842": {
          "model_module": "@jupyter-widgets/base",
          "model_name": "LayoutModel",
          "model_module_version": "1.2.0",
          "state": {
            "_model_module": "@jupyter-widgets/base",
            "_model_module_version": "1.2.0",
            "_model_name": "LayoutModel",
            "_view_count": null,
            "_view_module": "@jupyter-widgets/base",
            "_view_module_version": "1.2.0",
            "_view_name": "LayoutView",
            "align_content": null,
            "align_items": null,
            "align_self": null,
            "border": null,
            "bottom": null,
            "display": null,
            "flex": null,
            "flex_flow": null,
            "grid_area": null,
            "grid_auto_columns": null,
            "grid_auto_flow": null,
            "grid_auto_rows": null,
            "grid_column": null,
            "grid_gap": null,
            "grid_row": null,
            "grid_template_areas": null,
            "grid_template_columns": null,
            "grid_template_rows": null,
            "height": null,
            "justify_content": null,
            "justify_items": null,
            "left": null,
            "margin": null,
            "max_height": null,
            "max_width": null,
            "min_height": null,
            "min_width": null,
            "object_fit": null,
            "object_position": null,
            "order": null,
            "overflow": null,
            "overflow_x": null,
            "overflow_y": null,
            "padding": null,
            "right": null,
            "top": null,
            "visibility": null,
            "width": null
          }
        },
        "9b1849846d8245e49c7f1143eb22ac36": {
          "model_module": "@jupyter-widgets/base",
          "model_name": "LayoutModel",
          "model_module_version": "1.2.0",
          "state": {
            "_model_module": "@jupyter-widgets/base",
            "_model_module_version": "1.2.0",
            "_model_name": "LayoutModel",
            "_view_count": null,
            "_view_module": "@jupyter-widgets/base",
            "_view_module_version": "1.2.0",
            "_view_name": "LayoutView",
            "align_content": null,
            "align_items": null,
            "align_self": null,
            "border": null,
            "bottom": null,
            "display": null,
            "flex": null,
            "flex_flow": null,
            "grid_area": null,
            "grid_auto_columns": null,
            "grid_auto_flow": null,
            "grid_auto_rows": null,
            "grid_column": null,
            "grid_gap": null,
            "grid_row": null,
            "grid_template_areas": null,
            "grid_template_columns": null,
            "grid_template_rows": null,
            "height": null,
            "justify_content": null,
            "justify_items": null,
            "left": null,
            "margin": null,
            "max_height": null,
            "max_width": null,
            "min_height": null,
            "min_width": null,
            "object_fit": null,
            "object_position": null,
            "order": null,
            "overflow": null,
            "overflow_x": null,
            "overflow_y": null,
            "padding": null,
            "right": null,
            "top": null,
            "visibility": null,
            "width": null
          }
        },
        "3a4e0f26de534391a72eeea733414532": {
          "model_module": "@jupyter-widgets/controls",
          "model_name": "DescriptionStyleModel",
          "model_module_version": "1.5.0",
          "state": {
            "_model_module": "@jupyter-widgets/controls",
            "_model_module_version": "1.5.0",
            "_model_name": "DescriptionStyleModel",
            "_view_count": null,
            "_view_module": "@jupyter-widgets/base",
            "_view_module_version": "1.2.0",
            "_view_name": "StyleView",
            "description_width": ""
          }
        },
        "db43bc1ec4c54daca597579fb900b3c9": {
          "model_module": "@jupyter-widgets/base",
          "model_name": "LayoutModel",
          "model_module_version": "1.2.0",
          "state": {
            "_model_module": "@jupyter-widgets/base",
            "_model_module_version": "1.2.0",
            "_model_name": "LayoutModel",
            "_view_count": null,
            "_view_module": "@jupyter-widgets/base",
            "_view_module_version": "1.2.0",
            "_view_name": "LayoutView",
            "align_content": null,
            "align_items": null,
            "align_self": null,
            "border": null,
            "bottom": null,
            "display": null,
            "flex": null,
            "flex_flow": null,
            "grid_area": null,
            "grid_auto_columns": null,
            "grid_auto_flow": null,
            "grid_auto_rows": null,
            "grid_column": null,
            "grid_gap": null,
            "grid_row": null,
            "grid_template_areas": null,
            "grid_template_columns": null,
            "grid_template_rows": null,
            "height": null,
            "justify_content": null,
            "justify_items": null,
            "left": null,
            "margin": null,
            "max_height": null,
            "max_width": null,
            "min_height": null,
            "min_width": null,
            "object_fit": null,
            "object_position": null,
            "order": null,
            "overflow": null,
            "overflow_x": null,
            "overflow_y": null,
            "padding": null,
            "right": null,
            "top": null,
            "visibility": null,
            "width": null
          }
        },
        "7e0e6cb900424864933a2e9b1c3b03f2": {
          "model_module": "@jupyter-widgets/controls",
          "model_name": "ProgressStyleModel",
          "model_module_version": "1.5.0",
          "state": {
            "_model_module": "@jupyter-widgets/controls",
            "_model_module_version": "1.5.0",
            "_model_name": "ProgressStyleModel",
            "_view_count": null,
            "_view_module": "@jupyter-widgets/base",
            "_view_module_version": "1.2.0",
            "_view_name": "StyleView",
            "bar_color": null,
            "description_width": ""
          }
        },
        "2211a2de07374b3fb18cec2964887122": {
          "model_module": "@jupyter-widgets/base",
          "model_name": "LayoutModel",
          "model_module_version": "1.2.0",
          "state": {
            "_model_module": "@jupyter-widgets/base",
            "_model_module_version": "1.2.0",
            "_model_name": "LayoutModel",
            "_view_count": null,
            "_view_module": "@jupyter-widgets/base",
            "_view_module_version": "1.2.0",
            "_view_name": "LayoutView",
            "align_content": null,
            "align_items": null,
            "align_self": null,
            "border": null,
            "bottom": null,
            "display": null,
            "flex": null,
            "flex_flow": null,
            "grid_area": null,
            "grid_auto_columns": null,
            "grid_auto_flow": null,
            "grid_auto_rows": null,
            "grid_column": null,
            "grid_gap": null,
            "grid_row": null,
            "grid_template_areas": null,
            "grid_template_columns": null,
            "grid_template_rows": null,
            "height": null,
            "justify_content": null,
            "justify_items": null,
            "left": null,
            "margin": null,
            "max_height": null,
            "max_width": null,
            "min_height": null,
            "min_width": null,
            "object_fit": null,
            "object_position": null,
            "order": null,
            "overflow": null,
            "overflow_x": null,
            "overflow_y": null,
            "padding": null,
            "right": null,
            "top": null,
            "visibility": null,
            "width": null
          }
        },
        "002f21db28f14bfd981894073b231dd3": {
          "model_module": "@jupyter-widgets/controls",
          "model_name": "DescriptionStyleModel",
          "model_module_version": "1.5.0",
          "state": {
            "_model_module": "@jupyter-widgets/controls",
            "_model_module_version": "1.5.0",
            "_model_name": "DescriptionStyleModel",
            "_view_count": null,
            "_view_module": "@jupyter-widgets/base",
            "_view_module_version": "1.2.0",
            "_view_name": "StyleView",
            "description_width": ""
          }
        },
        "751e83679c644152be218b3bf4d2c53a": {
          "model_module": "@jupyter-widgets/controls",
          "model_name": "HBoxModel",
          "model_module_version": "1.5.0",
          "state": {
            "_dom_classes": [],
            "_model_module": "@jupyter-widgets/controls",
            "_model_module_version": "1.5.0",
            "_model_name": "HBoxModel",
            "_view_count": null,
            "_view_module": "@jupyter-widgets/controls",
            "_view_module_version": "1.5.0",
            "_view_name": "HBoxView",
            "box_style": "",
            "children": [
              "IPY_MODEL_f565891094c84798969f359c56b80df9",
              "IPY_MODEL_dbd4d895a0cf4ffcb4e9a2dc449836e0",
              "IPY_MODEL_5d011103e5824d79b28d94fb378c976f"
            ],
            "layout": "IPY_MODEL_783002c3d4964789a775405cda05313e"
          }
        },
        "f565891094c84798969f359c56b80df9": {
          "model_module": "@jupyter-widgets/controls",
          "model_name": "HTMLModel",
          "model_module_version": "1.5.0",
          "state": {
            "_dom_classes": [],
            "_model_module": "@jupyter-widgets/controls",
            "_model_module_version": "1.5.0",
            "_model_name": "HTMLModel",
            "_view_count": null,
            "_view_module": "@jupyter-widgets/controls",
            "_view_module_version": "1.5.0",
            "_view_name": "HTMLView",
            "description": "",
            "description_tooltip": null,
            "layout": "IPY_MODEL_0abbc3437fa549b29fa34b0d289ec077",
            "placeholder": "​",
            "style": "IPY_MODEL_5bf4b2585fdf48dab7ba2392138b110a",
            "value": "config.json: 100%"
          }
        },
        "dbd4d895a0cf4ffcb4e9a2dc449836e0": {
          "model_module": "@jupyter-widgets/controls",
          "model_name": "FloatProgressModel",
          "model_module_version": "1.5.0",
          "state": {
            "_dom_classes": [],
            "_model_module": "@jupyter-widgets/controls",
            "_model_module_version": "1.5.0",
            "_model_name": "FloatProgressModel",
            "_view_count": null,
            "_view_module": "@jupyter-widgets/controls",
            "_view_module_version": "1.5.0",
            "_view_name": "ProgressView",
            "bar_style": "success",
            "description": "",
            "description_tooltip": null,
            "layout": "IPY_MODEL_a646dd4cc0f14b8a96b54fe04cf596ff",
            "max": 465,
            "min": 0,
            "orientation": "horizontal",
            "style": "IPY_MODEL_b2ed7540c3694b92b4ad87f050fe22fd",
            "value": 465
          }
        },
        "5d011103e5824d79b28d94fb378c976f": {
          "model_module": "@jupyter-widgets/controls",
          "model_name": "HTMLModel",
          "model_module_version": "1.5.0",
          "state": {
            "_dom_classes": [],
            "_model_module": "@jupyter-widgets/controls",
            "_model_module_version": "1.5.0",
            "_model_name": "HTMLModel",
            "_view_count": null,
            "_view_module": "@jupyter-widgets/controls",
            "_view_module_version": "1.5.0",
            "_view_name": "HTMLView",
            "description": "",
            "description_tooltip": null,
            "layout": "IPY_MODEL_953288bba68d43dd99c3697a3d5bd147",
            "placeholder": "​",
            "style": "IPY_MODEL_e4dddda6c5a8476284590fc4ed61c8c6",
            "value": " 465/465 [00:00&lt;00:00, 16.7kB/s]"
          }
        },
        "783002c3d4964789a775405cda05313e": {
          "model_module": "@jupyter-widgets/base",
          "model_name": "LayoutModel",
          "model_module_version": "1.2.0",
          "state": {
            "_model_module": "@jupyter-widgets/base",
            "_model_module_version": "1.2.0",
            "_model_name": "LayoutModel",
            "_view_count": null,
            "_view_module": "@jupyter-widgets/base",
            "_view_module_version": "1.2.0",
            "_view_name": "LayoutView",
            "align_content": null,
            "align_items": null,
            "align_self": null,
            "border": null,
            "bottom": null,
            "display": null,
            "flex": null,
            "flex_flow": null,
            "grid_area": null,
            "grid_auto_columns": null,
            "grid_auto_flow": null,
            "grid_auto_rows": null,
            "grid_column": null,
            "grid_gap": null,
            "grid_row": null,
            "grid_template_areas": null,
            "grid_template_columns": null,
            "grid_template_rows": null,
            "height": null,
            "justify_content": null,
            "justify_items": null,
            "left": null,
            "margin": null,
            "max_height": null,
            "max_width": null,
            "min_height": null,
            "min_width": null,
            "object_fit": null,
            "object_position": null,
            "order": null,
            "overflow": null,
            "overflow_x": null,
            "overflow_y": null,
            "padding": null,
            "right": null,
            "top": null,
            "visibility": null,
            "width": null
          }
        },
        "0abbc3437fa549b29fa34b0d289ec077": {
          "model_module": "@jupyter-widgets/base",
          "model_name": "LayoutModel",
          "model_module_version": "1.2.0",
          "state": {
            "_model_module": "@jupyter-widgets/base",
            "_model_module_version": "1.2.0",
            "_model_name": "LayoutModel",
            "_view_count": null,
            "_view_module": "@jupyter-widgets/base",
            "_view_module_version": "1.2.0",
            "_view_name": "LayoutView",
            "align_content": null,
            "align_items": null,
            "align_self": null,
            "border": null,
            "bottom": null,
            "display": null,
            "flex": null,
            "flex_flow": null,
            "grid_area": null,
            "grid_auto_columns": null,
            "grid_auto_flow": null,
            "grid_auto_rows": null,
            "grid_column": null,
            "grid_gap": null,
            "grid_row": null,
            "grid_template_areas": null,
            "grid_template_columns": null,
            "grid_template_rows": null,
            "height": null,
            "justify_content": null,
            "justify_items": null,
            "left": null,
            "margin": null,
            "max_height": null,
            "max_width": null,
            "min_height": null,
            "min_width": null,
            "object_fit": null,
            "object_position": null,
            "order": null,
            "overflow": null,
            "overflow_x": null,
            "overflow_y": null,
            "padding": null,
            "right": null,
            "top": null,
            "visibility": null,
            "width": null
          }
        },
        "5bf4b2585fdf48dab7ba2392138b110a": {
          "model_module": "@jupyter-widgets/controls",
          "model_name": "DescriptionStyleModel",
          "model_module_version": "1.5.0",
          "state": {
            "_model_module": "@jupyter-widgets/controls",
            "_model_module_version": "1.5.0",
            "_model_name": "DescriptionStyleModel",
            "_view_count": null,
            "_view_module": "@jupyter-widgets/base",
            "_view_module_version": "1.2.0",
            "_view_name": "StyleView",
            "description_width": ""
          }
        },
        "a646dd4cc0f14b8a96b54fe04cf596ff": {
          "model_module": "@jupyter-widgets/base",
          "model_name": "LayoutModel",
          "model_module_version": "1.2.0",
          "state": {
            "_model_module": "@jupyter-widgets/base",
            "_model_module_version": "1.2.0",
            "_model_name": "LayoutModel",
            "_view_count": null,
            "_view_module": "@jupyter-widgets/base",
            "_view_module_version": "1.2.0",
            "_view_name": "LayoutView",
            "align_content": null,
            "align_items": null,
            "align_self": null,
            "border": null,
            "bottom": null,
            "display": null,
            "flex": null,
            "flex_flow": null,
            "grid_area": null,
            "grid_auto_columns": null,
            "grid_auto_flow": null,
            "grid_auto_rows": null,
            "grid_column": null,
            "grid_gap": null,
            "grid_row": null,
            "grid_template_areas": null,
            "grid_template_columns": null,
            "grid_template_rows": null,
            "height": null,
            "justify_content": null,
            "justify_items": null,
            "left": null,
            "margin": null,
            "max_height": null,
            "max_width": null,
            "min_height": null,
            "min_width": null,
            "object_fit": null,
            "object_position": null,
            "order": null,
            "overflow": null,
            "overflow_x": null,
            "overflow_y": null,
            "padding": null,
            "right": null,
            "top": null,
            "visibility": null,
            "width": null
          }
        },
        "b2ed7540c3694b92b4ad87f050fe22fd": {
          "model_module": "@jupyter-widgets/controls",
          "model_name": "ProgressStyleModel",
          "model_module_version": "1.5.0",
          "state": {
            "_model_module": "@jupyter-widgets/controls",
            "_model_module_version": "1.5.0",
            "_model_name": "ProgressStyleModel",
            "_view_count": null,
            "_view_module": "@jupyter-widgets/base",
            "_view_module_version": "1.2.0",
            "_view_name": "StyleView",
            "bar_color": null,
            "description_width": ""
          }
        },
        "953288bba68d43dd99c3697a3d5bd147": {
          "model_module": "@jupyter-widgets/base",
          "model_name": "LayoutModel",
          "model_module_version": "1.2.0",
          "state": {
            "_model_module": "@jupyter-widgets/base",
            "_model_module_version": "1.2.0",
            "_model_name": "LayoutModel",
            "_view_count": null,
            "_view_module": "@jupyter-widgets/base",
            "_view_module_version": "1.2.0",
            "_view_name": "LayoutView",
            "align_content": null,
            "align_items": null,
            "align_self": null,
            "border": null,
            "bottom": null,
            "display": null,
            "flex": null,
            "flex_flow": null,
            "grid_area": null,
            "grid_auto_columns": null,
            "grid_auto_flow": null,
            "grid_auto_rows": null,
            "grid_column": null,
            "grid_gap": null,
            "grid_row": null,
            "grid_template_areas": null,
            "grid_template_columns": null,
            "grid_template_rows": null,
            "height": null,
            "justify_content": null,
            "justify_items": null,
            "left": null,
            "margin": null,
            "max_height": null,
            "max_width": null,
            "min_height": null,
            "min_width": null,
            "object_fit": null,
            "object_position": null,
            "order": null,
            "overflow": null,
            "overflow_x": null,
            "overflow_y": null,
            "padding": null,
            "right": null,
            "top": null,
            "visibility": null,
            "width": null
          }
        },
        "e4dddda6c5a8476284590fc4ed61c8c6": {
          "model_module": "@jupyter-widgets/controls",
          "model_name": "DescriptionStyleModel",
          "model_module_version": "1.5.0",
          "state": {
            "_model_module": "@jupyter-widgets/controls",
            "_model_module_version": "1.5.0",
            "_model_name": "DescriptionStyleModel",
            "_view_count": null,
            "_view_module": "@jupyter-widgets/base",
            "_view_module_version": "1.2.0",
            "_view_name": "StyleView",
            "description_width": ""
          }
        },
        "c092f58650d24521aa461f6ea461d780": {
          "model_module": "@jupyter-widgets/controls",
          "model_name": "HBoxModel",
          "model_module_version": "1.5.0",
          "state": {
            "_dom_classes": [],
            "_model_module": "@jupyter-widgets/controls",
            "_model_module_version": "1.5.0",
            "_model_name": "HBoxModel",
            "_view_count": null,
            "_view_module": "@jupyter-widgets/controls",
            "_view_module_version": "1.5.0",
            "_view_name": "HBoxView",
            "box_style": "",
            "children": [
              "IPY_MODEL_b6a39a9e0acb4fe29283eeb01fbcec7c",
              "IPY_MODEL_82399e75070c46e080d608614d0f1447",
              "IPY_MODEL_9e75ec28a5b0418a9041fb154e4f6962"
            ],
            "layout": "IPY_MODEL_909b3e121ce749d8854781eb694ec460"
          }
        },
        "b6a39a9e0acb4fe29283eeb01fbcec7c": {
          "model_module": "@jupyter-widgets/controls",
          "model_name": "HTMLModel",
          "model_module_version": "1.5.0",
          "state": {
            "_dom_classes": [],
            "_model_module": "@jupyter-widgets/controls",
            "_model_module_version": "1.5.0",
            "_model_name": "HTMLModel",
            "_view_count": null,
            "_view_module": "@jupyter-widgets/controls",
            "_view_module_version": "1.5.0",
            "_view_name": "HTMLView",
            "description": "",
            "description_tooltip": null,
            "layout": "IPY_MODEL_99ee96ce4ee94d6989246c5523cc3af1",
            "placeholder": "​",
            "style": "IPY_MODEL_010918707d27458d95a5982d24f4ec98",
            "value": "vocab.txt: 100%"
          }
        },
        "82399e75070c46e080d608614d0f1447": {
          "model_module": "@jupyter-widgets/controls",
          "model_name": "FloatProgressModel",
          "model_module_version": "1.5.0",
          "state": {
            "_dom_classes": [],
            "_model_module": "@jupyter-widgets/controls",
            "_model_module_version": "1.5.0",
            "_model_name": "FloatProgressModel",
            "_view_count": null,
            "_view_module": "@jupyter-widgets/controls",
            "_view_module_version": "1.5.0",
            "_view_name": "ProgressView",
            "bar_style": "success",
            "description": "",
            "description_tooltip": null,
            "layout": "IPY_MODEL_d604162b175a44b4a34925e73130b7be",
            "max": 213450,
            "min": 0,
            "orientation": "horizontal",
            "style": "IPY_MODEL_3240445389a442a0960a416b4963499d",
            "value": 213450
          }
        },
        "9e75ec28a5b0418a9041fb154e4f6962": {
          "model_module": "@jupyter-widgets/controls",
          "model_name": "HTMLModel",
          "model_module_version": "1.5.0",
          "state": {
            "_dom_classes": [],
            "_model_module": "@jupyter-widgets/controls",
            "_model_module_version": "1.5.0",
            "_model_name": "HTMLModel",
            "_view_count": null,
            "_view_module": "@jupyter-widgets/controls",
            "_view_module_version": "1.5.0",
            "_view_name": "HTMLView",
            "description": "",
            "description_tooltip": null,
            "layout": "IPY_MODEL_e3ea320888be4078a380af344ce79dac",
            "placeholder": "​",
            "style": "IPY_MODEL_c6d0457075e54fbf91a000f38a607db9",
            "value": " 213k/213k [00:00&lt;00:00, 3.15MB/s]"
          }
        },
        "909b3e121ce749d8854781eb694ec460": {
          "model_module": "@jupyter-widgets/base",
          "model_name": "LayoutModel",
          "model_module_version": "1.2.0",
          "state": {
            "_model_module": "@jupyter-widgets/base",
            "_model_module_version": "1.2.0",
            "_model_name": "LayoutModel",
            "_view_count": null,
            "_view_module": "@jupyter-widgets/base",
            "_view_module_version": "1.2.0",
            "_view_name": "LayoutView",
            "align_content": null,
            "align_items": null,
            "align_self": null,
            "border": null,
            "bottom": null,
            "display": null,
            "flex": null,
            "flex_flow": null,
            "grid_area": null,
            "grid_auto_columns": null,
            "grid_auto_flow": null,
            "grid_auto_rows": null,
            "grid_column": null,
            "grid_gap": null,
            "grid_row": null,
            "grid_template_areas": null,
            "grid_template_columns": null,
            "grid_template_rows": null,
            "height": null,
            "justify_content": null,
            "justify_items": null,
            "left": null,
            "margin": null,
            "max_height": null,
            "max_width": null,
            "min_height": null,
            "min_width": null,
            "object_fit": null,
            "object_position": null,
            "order": null,
            "overflow": null,
            "overflow_x": null,
            "overflow_y": null,
            "padding": null,
            "right": null,
            "top": null,
            "visibility": null,
            "width": null
          }
        },
        "99ee96ce4ee94d6989246c5523cc3af1": {
          "model_module": "@jupyter-widgets/base",
          "model_name": "LayoutModel",
          "model_module_version": "1.2.0",
          "state": {
            "_model_module": "@jupyter-widgets/base",
            "_model_module_version": "1.2.0",
            "_model_name": "LayoutModel",
            "_view_count": null,
            "_view_module": "@jupyter-widgets/base",
            "_view_module_version": "1.2.0",
            "_view_name": "LayoutView",
            "align_content": null,
            "align_items": null,
            "align_self": null,
            "border": null,
            "bottom": null,
            "display": null,
            "flex": null,
            "flex_flow": null,
            "grid_area": null,
            "grid_auto_columns": null,
            "grid_auto_flow": null,
            "grid_auto_rows": null,
            "grid_column": null,
            "grid_gap": null,
            "grid_row": null,
            "grid_template_areas": null,
            "grid_template_columns": null,
            "grid_template_rows": null,
            "height": null,
            "justify_content": null,
            "justify_items": null,
            "left": null,
            "margin": null,
            "max_height": null,
            "max_width": null,
            "min_height": null,
            "min_width": null,
            "object_fit": null,
            "object_position": null,
            "order": null,
            "overflow": null,
            "overflow_x": null,
            "overflow_y": null,
            "padding": null,
            "right": null,
            "top": null,
            "visibility": null,
            "width": null
          }
        },
        "010918707d27458d95a5982d24f4ec98": {
          "model_module": "@jupyter-widgets/controls",
          "model_name": "DescriptionStyleModel",
          "model_module_version": "1.5.0",
          "state": {
            "_model_module": "@jupyter-widgets/controls",
            "_model_module_version": "1.5.0",
            "_model_name": "DescriptionStyleModel",
            "_view_count": null,
            "_view_module": "@jupyter-widgets/base",
            "_view_module_version": "1.2.0",
            "_view_name": "StyleView",
            "description_width": ""
          }
        },
        "d604162b175a44b4a34925e73130b7be": {
          "model_module": "@jupyter-widgets/base",
          "model_name": "LayoutModel",
          "model_module_version": "1.2.0",
          "state": {
            "_model_module": "@jupyter-widgets/base",
            "_model_module_version": "1.2.0",
            "_model_name": "LayoutModel",
            "_view_count": null,
            "_view_module": "@jupyter-widgets/base",
            "_view_module_version": "1.2.0",
            "_view_name": "LayoutView",
            "align_content": null,
            "align_items": null,
            "align_self": null,
            "border": null,
            "bottom": null,
            "display": null,
            "flex": null,
            "flex_flow": null,
            "grid_area": null,
            "grid_auto_columns": null,
            "grid_auto_flow": null,
            "grid_auto_rows": null,
            "grid_column": null,
            "grid_gap": null,
            "grid_row": null,
            "grid_template_areas": null,
            "grid_template_columns": null,
            "grid_template_rows": null,
            "height": null,
            "justify_content": null,
            "justify_items": null,
            "left": null,
            "margin": null,
            "max_height": null,
            "max_width": null,
            "min_height": null,
            "min_width": null,
            "object_fit": null,
            "object_position": null,
            "order": null,
            "overflow": null,
            "overflow_x": null,
            "overflow_y": null,
            "padding": null,
            "right": null,
            "top": null,
            "visibility": null,
            "width": null
          }
        },
        "3240445389a442a0960a416b4963499d": {
          "model_module": "@jupyter-widgets/controls",
          "model_name": "ProgressStyleModel",
          "model_module_version": "1.5.0",
          "state": {
            "_model_module": "@jupyter-widgets/controls",
            "_model_module_version": "1.5.0",
            "_model_name": "ProgressStyleModel",
            "_view_count": null,
            "_view_module": "@jupyter-widgets/base",
            "_view_module_version": "1.2.0",
            "_view_name": "StyleView",
            "bar_color": null,
            "description_width": ""
          }
        },
        "e3ea320888be4078a380af344ce79dac": {
          "model_module": "@jupyter-widgets/base",
          "model_name": "LayoutModel",
          "model_module_version": "1.2.0",
          "state": {
            "_model_module": "@jupyter-widgets/base",
            "_model_module_version": "1.2.0",
            "_model_name": "LayoutModel",
            "_view_count": null,
            "_view_module": "@jupyter-widgets/base",
            "_view_module_version": "1.2.0",
            "_view_name": "LayoutView",
            "align_content": null,
            "align_items": null,
            "align_self": null,
            "border": null,
            "bottom": null,
            "display": null,
            "flex": null,
            "flex_flow": null,
            "grid_area": null,
            "grid_auto_columns": null,
            "grid_auto_flow": null,
            "grid_auto_rows": null,
            "grid_column": null,
            "grid_gap": null,
            "grid_row": null,
            "grid_template_areas": null,
            "grid_template_columns": null,
            "grid_template_rows": null,
            "height": null,
            "justify_content": null,
            "justify_items": null,
            "left": null,
            "margin": null,
            "max_height": null,
            "max_width": null,
            "min_height": null,
            "min_width": null,
            "object_fit": null,
            "object_position": null,
            "order": null,
            "overflow": null,
            "overflow_x": null,
            "overflow_y": null,
            "padding": null,
            "right": null,
            "top": null,
            "visibility": null,
            "width": null
          }
        },
        "c6d0457075e54fbf91a000f38a607db9": {
          "model_module": "@jupyter-widgets/controls",
          "model_name": "DescriptionStyleModel",
          "model_module_version": "1.5.0",
          "state": {
            "_model_module": "@jupyter-widgets/controls",
            "_model_module_version": "1.5.0",
            "_model_name": "DescriptionStyleModel",
            "_view_count": null,
            "_view_module": "@jupyter-widgets/base",
            "_view_module_version": "1.2.0",
            "_view_name": "StyleView",
            "description_width": ""
          }
        },
        "88d178d9102946e89083d53a92fca15b": {
          "model_module": "@jupyter-widgets/controls",
          "model_name": "HBoxModel",
          "model_module_version": "1.5.0",
          "state": {
            "_dom_classes": [],
            "_model_module": "@jupyter-widgets/controls",
            "_model_module_version": "1.5.0",
            "_model_name": "HBoxModel",
            "_view_count": null,
            "_view_module": "@jupyter-widgets/controls",
            "_view_module_version": "1.5.0",
            "_view_name": "HBoxView",
            "box_style": "",
            "children": [
              "IPY_MODEL_88309d55c3fe4c939f680cbc7e85fdf6",
              "IPY_MODEL_90d47b57e7bb478297ae38bd10815497",
              "IPY_MODEL_b44bfcde03b24422895b0d1bb11d97ad"
            ],
            "layout": "IPY_MODEL_721e44b0c0b64465a6947b3964e1db37"
          }
        },
        "88309d55c3fe4c939f680cbc7e85fdf6": {
          "model_module": "@jupyter-widgets/controls",
          "model_name": "HTMLModel",
          "model_module_version": "1.5.0",
          "state": {
            "_dom_classes": [],
            "_model_module": "@jupyter-widgets/controls",
            "_model_module_version": "1.5.0",
            "_model_name": "HTMLModel",
            "_view_count": null,
            "_view_module": "@jupyter-widgets/controls",
            "_view_module_version": "1.5.0",
            "_view_name": "HTMLView",
            "description": "",
            "description_tooltip": null,
            "layout": "IPY_MODEL_74086c4c90df46dc8c309aaeb8359372",
            "placeholder": "​",
            "style": "IPY_MODEL_e4c1403606e149cf8eb1fe188ec45614",
            "value": "tokenizer.json: 100%"
          }
        },
        "90d47b57e7bb478297ae38bd10815497": {
          "model_module": "@jupyter-widgets/controls",
          "model_name": "FloatProgressModel",
          "model_module_version": "1.5.0",
          "state": {
            "_dom_classes": [],
            "_model_module": "@jupyter-widgets/controls",
            "_model_module_version": "1.5.0",
            "_model_name": "FloatProgressModel",
            "_view_count": null,
            "_view_module": "@jupyter-widgets/controls",
            "_view_module_version": "1.5.0",
            "_view_name": "ProgressView",
            "bar_style": "success",
            "description": "",
            "description_tooltip": null,
            "layout": "IPY_MODEL_7c8a60c2c08e48d6b43678364ddc0028",
            "max": 435797,
            "min": 0,
            "orientation": "horizontal",
            "style": "IPY_MODEL_2b5a74bcdbb941979df56bbd20a5562f",
            "value": 435797
          }
        },
        "b44bfcde03b24422895b0d1bb11d97ad": {
          "model_module": "@jupyter-widgets/controls",
          "model_name": "HTMLModel",
          "model_module_version": "1.5.0",
          "state": {
            "_dom_classes": [],
            "_model_module": "@jupyter-widgets/controls",
            "_model_module_version": "1.5.0",
            "_model_name": "HTMLModel",
            "_view_count": null,
            "_view_module": "@jupyter-widgets/controls",
            "_view_module_version": "1.5.0",
            "_view_name": "HTMLView",
            "description": "",
            "description_tooltip": null,
            "layout": "IPY_MODEL_0e37dcffbe544994907a3f243dad81ae",
            "placeholder": "​",
            "style": "IPY_MODEL_734ef2f4e36242908836f868b0c565cb",
            "value": " 436k/436k [00:00&lt;00:00, 4.28MB/s]"
          }
        },
        "721e44b0c0b64465a6947b3964e1db37": {
          "model_module": "@jupyter-widgets/base",
          "model_name": "LayoutModel",
          "model_module_version": "1.2.0",
          "state": {
            "_model_module": "@jupyter-widgets/base",
            "_model_module_version": "1.2.0",
            "_model_name": "LayoutModel",
            "_view_count": null,
            "_view_module": "@jupyter-widgets/base",
            "_view_module_version": "1.2.0",
            "_view_name": "LayoutView",
            "align_content": null,
            "align_items": null,
            "align_self": null,
            "border": null,
            "bottom": null,
            "display": null,
            "flex": null,
            "flex_flow": null,
            "grid_area": null,
            "grid_auto_columns": null,
            "grid_auto_flow": null,
            "grid_auto_rows": null,
            "grid_column": null,
            "grid_gap": null,
            "grid_row": null,
            "grid_template_areas": null,
            "grid_template_columns": null,
            "grid_template_rows": null,
            "height": null,
            "justify_content": null,
            "justify_items": null,
            "left": null,
            "margin": null,
            "max_height": null,
            "max_width": null,
            "min_height": null,
            "min_width": null,
            "object_fit": null,
            "object_position": null,
            "order": null,
            "overflow": null,
            "overflow_x": null,
            "overflow_y": null,
            "padding": null,
            "right": null,
            "top": null,
            "visibility": null,
            "width": null
          }
        },
        "74086c4c90df46dc8c309aaeb8359372": {
          "model_module": "@jupyter-widgets/base",
          "model_name": "LayoutModel",
          "model_module_version": "1.2.0",
          "state": {
            "_model_module": "@jupyter-widgets/base",
            "_model_module_version": "1.2.0",
            "_model_name": "LayoutModel",
            "_view_count": null,
            "_view_module": "@jupyter-widgets/base",
            "_view_module_version": "1.2.0",
            "_view_name": "LayoutView",
            "align_content": null,
            "align_items": null,
            "align_self": null,
            "border": null,
            "bottom": null,
            "display": null,
            "flex": null,
            "flex_flow": null,
            "grid_area": null,
            "grid_auto_columns": null,
            "grid_auto_flow": null,
            "grid_auto_rows": null,
            "grid_column": null,
            "grid_gap": null,
            "grid_row": null,
            "grid_template_areas": null,
            "grid_template_columns": null,
            "grid_template_rows": null,
            "height": null,
            "justify_content": null,
            "justify_items": null,
            "left": null,
            "margin": null,
            "max_height": null,
            "max_width": null,
            "min_height": null,
            "min_width": null,
            "object_fit": null,
            "object_position": null,
            "order": null,
            "overflow": null,
            "overflow_x": null,
            "overflow_y": null,
            "padding": null,
            "right": null,
            "top": null,
            "visibility": null,
            "width": null
          }
        },
        "e4c1403606e149cf8eb1fe188ec45614": {
          "model_module": "@jupyter-widgets/controls",
          "model_name": "DescriptionStyleModel",
          "model_module_version": "1.5.0",
          "state": {
            "_model_module": "@jupyter-widgets/controls",
            "_model_module_version": "1.5.0",
            "_model_name": "DescriptionStyleModel",
            "_view_count": null,
            "_view_module": "@jupyter-widgets/base",
            "_view_module_version": "1.2.0",
            "_view_name": "StyleView",
            "description_width": ""
          }
        },
        "7c8a60c2c08e48d6b43678364ddc0028": {
          "model_module": "@jupyter-widgets/base",
          "model_name": "LayoutModel",
          "model_module_version": "1.2.0",
          "state": {
            "_model_module": "@jupyter-widgets/base",
            "_model_module_version": "1.2.0",
            "_model_name": "LayoutModel",
            "_view_count": null,
            "_view_module": "@jupyter-widgets/base",
            "_view_module_version": "1.2.0",
            "_view_name": "LayoutView",
            "align_content": null,
            "align_items": null,
            "align_self": null,
            "border": null,
            "bottom": null,
            "display": null,
            "flex": null,
            "flex_flow": null,
            "grid_area": null,
            "grid_auto_columns": null,
            "grid_auto_flow": null,
            "grid_auto_rows": null,
            "grid_column": null,
            "grid_gap": null,
            "grid_row": null,
            "grid_template_areas": null,
            "grid_template_columns": null,
            "grid_template_rows": null,
            "height": null,
            "justify_content": null,
            "justify_items": null,
            "left": null,
            "margin": null,
            "max_height": null,
            "max_width": null,
            "min_height": null,
            "min_width": null,
            "object_fit": null,
            "object_position": null,
            "order": null,
            "overflow": null,
            "overflow_x": null,
            "overflow_y": null,
            "padding": null,
            "right": null,
            "top": null,
            "visibility": null,
            "width": null
          }
        },
        "2b5a74bcdbb941979df56bbd20a5562f": {
          "model_module": "@jupyter-widgets/controls",
          "model_name": "ProgressStyleModel",
          "model_module_version": "1.5.0",
          "state": {
            "_model_module": "@jupyter-widgets/controls",
            "_model_module_version": "1.5.0",
            "_model_name": "ProgressStyleModel",
            "_view_count": null,
            "_view_module": "@jupyter-widgets/base",
            "_view_module_version": "1.2.0",
            "_view_name": "StyleView",
            "bar_color": null,
            "description_width": ""
          }
        },
        "0e37dcffbe544994907a3f243dad81ae": {
          "model_module": "@jupyter-widgets/base",
          "model_name": "LayoutModel",
          "model_module_version": "1.2.0",
          "state": {
            "_model_module": "@jupyter-widgets/base",
            "_model_module_version": "1.2.0",
            "_model_name": "LayoutModel",
            "_view_count": null,
            "_view_module": "@jupyter-widgets/base",
            "_view_module_version": "1.2.0",
            "_view_name": "LayoutView",
            "align_content": null,
            "align_items": null,
            "align_self": null,
            "border": null,
            "bottom": null,
            "display": null,
            "flex": null,
            "flex_flow": null,
            "grid_area": null,
            "grid_auto_columns": null,
            "grid_auto_flow": null,
            "grid_auto_rows": null,
            "grid_column": null,
            "grid_gap": null,
            "grid_row": null,
            "grid_template_areas": null,
            "grid_template_columns": null,
            "grid_template_rows": null,
            "height": null,
            "justify_content": null,
            "justify_items": null,
            "left": null,
            "margin": null,
            "max_height": null,
            "max_width": null,
            "min_height": null,
            "min_width": null,
            "object_fit": null,
            "object_position": null,
            "order": null,
            "overflow": null,
            "overflow_x": null,
            "overflow_y": null,
            "padding": null,
            "right": null,
            "top": null,
            "visibility": null,
            "width": null
          }
        },
        "734ef2f4e36242908836f868b0c565cb": {
          "model_module": "@jupyter-widgets/controls",
          "model_name": "DescriptionStyleModel",
          "model_module_version": "1.5.0",
          "state": {
            "_model_module": "@jupyter-widgets/controls",
            "_model_module_version": "1.5.0",
            "_model_name": "DescriptionStyleModel",
            "_view_count": null,
            "_view_module": "@jupyter-widgets/base",
            "_view_module_version": "1.2.0",
            "_view_name": "StyleView",
            "description_width": ""
          }
        },
        "697b69c3dc504a2a8ee18e148a8b5a7b": {
          "model_module": "@jupyter-widgets/controls",
          "model_name": "HBoxModel",
          "model_module_version": "1.5.0",
          "state": {
            "_dom_classes": [],
            "_model_module": "@jupyter-widgets/controls",
            "_model_module_version": "1.5.0",
            "_model_name": "HBoxModel",
            "_view_count": null,
            "_view_module": "@jupyter-widgets/controls",
            "_view_module_version": "1.5.0",
            "_view_name": "HBoxView",
            "box_style": "",
            "children": [
              "IPY_MODEL_c319db7fea504e84b5e621dba45acbb8",
              "IPY_MODEL_48b2882f4d484f1db1a9b3fb1e9eb8da",
              "IPY_MODEL_aeb3bea299264a8499638079dea41077"
            ],
            "layout": "IPY_MODEL_53a84e1b1e6145c89af34d0c34657a12"
          }
        },
        "c319db7fea504e84b5e621dba45acbb8": {
          "model_module": "@jupyter-widgets/controls",
          "model_name": "HTMLModel",
          "model_module_version": "1.5.0",
          "state": {
            "_dom_classes": [],
            "_model_module": "@jupyter-widgets/controls",
            "_model_module_version": "1.5.0",
            "_model_name": "HTMLModel",
            "_view_count": null,
            "_view_module": "@jupyter-widgets/controls",
            "_view_module_version": "1.5.0",
            "_view_name": "HTMLView",
            "description": "",
            "description_tooltip": null,
            "layout": "IPY_MODEL_26fc1d668e1f478081ddba7a6fdf49fb",
            "placeholder": "​",
            "style": "IPY_MODEL_34203ba84e30433ea11484a224dfff80",
            "value": "Map: 100%"
          }
        },
        "48b2882f4d484f1db1a9b3fb1e9eb8da": {
          "model_module": "@jupyter-widgets/controls",
          "model_name": "FloatProgressModel",
          "model_module_version": "1.5.0",
          "state": {
            "_dom_classes": [],
            "_model_module": "@jupyter-widgets/controls",
            "_model_module_version": "1.5.0",
            "_model_name": "FloatProgressModel",
            "_view_count": null,
            "_view_module": "@jupyter-widgets/controls",
            "_view_module_version": "1.5.0",
            "_view_name": "ProgressView",
            "bar_style": "success",
            "description": "",
            "description_tooltip": null,
            "layout": "IPY_MODEL_23ae4d220b3a4f42a199bc728c38d1e2",
            "max": 5433,
            "min": 0,
            "orientation": "horizontal",
            "style": "IPY_MODEL_e4b56b4d6dc54f26b28af8689e7b411e",
            "value": 5433
          }
        },
        "aeb3bea299264a8499638079dea41077": {
          "model_module": "@jupyter-widgets/controls",
          "model_name": "HTMLModel",
          "model_module_version": "1.5.0",
          "state": {
            "_dom_classes": [],
            "_model_module": "@jupyter-widgets/controls",
            "_model_module_version": "1.5.0",
            "_model_name": "HTMLModel",
            "_view_count": null,
            "_view_module": "@jupyter-widgets/controls",
            "_view_module_version": "1.5.0",
            "_view_name": "HTMLView",
            "description": "",
            "description_tooltip": null,
            "layout": "IPY_MODEL_8ffe3de406e54ecea9b30b789d7dd958",
            "placeholder": "​",
            "style": "IPY_MODEL_66101389a60a4422a1633d2ae29f9662",
            "value": " 5433/5433 [00:01&lt;00:00, 4075.70 examples/s]"
          }
        },
        "53a84e1b1e6145c89af34d0c34657a12": {
          "model_module": "@jupyter-widgets/base",
          "model_name": "LayoutModel",
          "model_module_version": "1.2.0",
          "state": {
            "_model_module": "@jupyter-widgets/base",
            "_model_module_version": "1.2.0",
            "_model_name": "LayoutModel",
            "_view_count": null,
            "_view_module": "@jupyter-widgets/base",
            "_view_module_version": "1.2.0",
            "_view_name": "LayoutView",
            "align_content": null,
            "align_items": null,
            "align_self": null,
            "border": null,
            "bottom": null,
            "display": null,
            "flex": null,
            "flex_flow": null,
            "grid_area": null,
            "grid_auto_columns": null,
            "grid_auto_flow": null,
            "grid_auto_rows": null,
            "grid_column": null,
            "grid_gap": null,
            "grid_row": null,
            "grid_template_areas": null,
            "grid_template_columns": null,
            "grid_template_rows": null,
            "height": null,
            "justify_content": null,
            "justify_items": null,
            "left": null,
            "margin": null,
            "max_height": null,
            "max_width": null,
            "min_height": null,
            "min_width": null,
            "object_fit": null,
            "object_position": null,
            "order": null,
            "overflow": null,
            "overflow_x": null,
            "overflow_y": null,
            "padding": null,
            "right": null,
            "top": null,
            "visibility": null,
            "width": null
          }
        },
        "26fc1d668e1f478081ddba7a6fdf49fb": {
          "model_module": "@jupyter-widgets/base",
          "model_name": "LayoutModel",
          "model_module_version": "1.2.0",
          "state": {
            "_model_module": "@jupyter-widgets/base",
            "_model_module_version": "1.2.0",
            "_model_name": "LayoutModel",
            "_view_count": null,
            "_view_module": "@jupyter-widgets/base",
            "_view_module_version": "1.2.0",
            "_view_name": "LayoutView",
            "align_content": null,
            "align_items": null,
            "align_self": null,
            "border": null,
            "bottom": null,
            "display": null,
            "flex": null,
            "flex_flow": null,
            "grid_area": null,
            "grid_auto_columns": null,
            "grid_auto_flow": null,
            "grid_auto_rows": null,
            "grid_column": null,
            "grid_gap": null,
            "grid_row": null,
            "grid_template_areas": null,
            "grid_template_columns": null,
            "grid_template_rows": null,
            "height": null,
            "justify_content": null,
            "justify_items": null,
            "left": null,
            "margin": null,
            "max_height": null,
            "max_width": null,
            "min_height": null,
            "min_width": null,
            "object_fit": null,
            "object_position": null,
            "order": null,
            "overflow": null,
            "overflow_x": null,
            "overflow_y": null,
            "padding": null,
            "right": null,
            "top": null,
            "visibility": null,
            "width": null
          }
        },
        "34203ba84e30433ea11484a224dfff80": {
          "model_module": "@jupyter-widgets/controls",
          "model_name": "DescriptionStyleModel",
          "model_module_version": "1.5.0",
          "state": {
            "_model_module": "@jupyter-widgets/controls",
            "_model_module_version": "1.5.0",
            "_model_name": "DescriptionStyleModel",
            "_view_count": null,
            "_view_module": "@jupyter-widgets/base",
            "_view_module_version": "1.2.0",
            "_view_name": "StyleView",
            "description_width": ""
          }
        },
        "23ae4d220b3a4f42a199bc728c38d1e2": {
          "model_module": "@jupyter-widgets/base",
          "model_name": "LayoutModel",
          "model_module_version": "1.2.0",
          "state": {
            "_model_module": "@jupyter-widgets/base",
            "_model_module_version": "1.2.0",
            "_model_name": "LayoutModel",
            "_view_count": null,
            "_view_module": "@jupyter-widgets/base",
            "_view_module_version": "1.2.0",
            "_view_name": "LayoutView",
            "align_content": null,
            "align_items": null,
            "align_self": null,
            "border": null,
            "bottom": null,
            "display": null,
            "flex": null,
            "flex_flow": null,
            "grid_area": null,
            "grid_auto_columns": null,
            "grid_auto_flow": null,
            "grid_auto_rows": null,
            "grid_column": null,
            "grid_gap": null,
            "grid_row": null,
            "grid_template_areas": null,
            "grid_template_columns": null,
            "grid_template_rows": null,
            "height": null,
            "justify_content": null,
            "justify_items": null,
            "left": null,
            "margin": null,
            "max_height": null,
            "max_width": null,
            "min_height": null,
            "min_width": null,
            "object_fit": null,
            "object_position": null,
            "order": null,
            "overflow": null,
            "overflow_x": null,
            "overflow_y": null,
            "padding": null,
            "right": null,
            "top": null,
            "visibility": null,
            "width": null
          }
        },
        "e4b56b4d6dc54f26b28af8689e7b411e": {
          "model_module": "@jupyter-widgets/controls",
          "model_name": "ProgressStyleModel",
          "model_module_version": "1.5.0",
          "state": {
            "_model_module": "@jupyter-widgets/controls",
            "_model_module_version": "1.5.0",
            "_model_name": "ProgressStyleModel",
            "_view_count": null,
            "_view_module": "@jupyter-widgets/base",
            "_view_module_version": "1.2.0",
            "_view_name": "StyleView",
            "bar_color": null,
            "description_width": ""
          }
        },
        "8ffe3de406e54ecea9b30b789d7dd958": {
          "model_module": "@jupyter-widgets/base",
          "model_name": "LayoutModel",
          "model_module_version": "1.2.0",
          "state": {
            "_model_module": "@jupyter-widgets/base",
            "_model_module_version": "1.2.0",
            "_model_name": "LayoutModel",
            "_view_count": null,
            "_view_module": "@jupyter-widgets/base",
            "_view_module_version": "1.2.0",
            "_view_name": "LayoutView",
            "align_content": null,
            "align_items": null,
            "align_self": null,
            "border": null,
            "bottom": null,
            "display": null,
            "flex": null,
            "flex_flow": null,
            "grid_area": null,
            "grid_auto_columns": null,
            "grid_auto_flow": null,
            "grid_auto_rows": null,
            "grid_column": null,
            "grid_gap": null,
            "grid_row": null,
            "grid_template_areas": null,
            "grid_template_columns": null,
            "grid_template_rows": null,
            "height": null,
            "justify_content": null,
            "justify_items": null,
            "left": null,
            "margin": null,
            "max_height": null,
            "max_width": null,
            "min_height": null,
            "min_width": null,
            "object_fit": null,
            "object_position": null,
            "order": null,
            "overflow": null,
            "overflow_x": null,
            "overflow_y": null,
            "padding": null,
            "right": null,
            "top": null,
            "visibility": null,
            "width": null
          }
        },
        "66101389a60a4422a1633d2ae29f9662": {
          "model_module": "@jupyter-widgets/controls",
          "model_name": "DescriptionStyleModel",
          "model_module_version": "1.5.0",
          "state": {
            "_model_module": "@jupyter-widgets/controls",
            "_model_module_version": "1.5.0",
            "_model_name": "DescriptionStyleModel",
            "_view_count": null,
            "_view_module": "@jupyter-widgets/base",
            "_view_module_version": "1.2.0",
            "_view_name": "StyleView",
            "description_width": ""
          }
        },
        "efcb2207388448b3ae95822035454e5b": {
          "model_module": "@jupyter-widgets/controls",
          "model_name": "HBoxModel",
          "model_module_version": "1.5.0",
          "state": {
            "_dom_classes": [],
            "_model_module": "@jupyter-widgets/controls",
            "_model_module_version": "1.5.0",
            "_model_name": "HBoxModel",
            "_view_count": null,
            "_view_module": "@jupyter-widgets/controls",
            "_view_module_version": "1.5.0",
            "_view_name": "HBoxView",
            "box_style": "",
            "children": [
              "IPY_MODEL_a740393490d94a2787f789d252ea6c05",
              "IPY_MODEL_07bdfe8ada6b464aa56047c9e6f51057",
              "IPY_MODEL_11d1818875564a05967eb0c783b10b46"
            ],
            "layout": "IPY_MODEL_d6f9c34c74664287a468e8d91aa2bd25"
          }
        },
        "a740393490d94a2787f789d252ea6c05": {
          "model_module": "@jupyter-widgets/controls",
          "model_name": "HTMLModel",
          "model_module_version": "1.5.0",
          "state": {
            "_dom_classes": [],
            "_model_module": "@jupyter-widgets/controls",
            "_model_module_version": "1.5.0",
            "_model_name": "HTMLModel",
            "_view_count": null,
            "_view_module": "@jupyter-widgets/controls",
            "_view_module_version": "1.5.0",
            "_view_name": "HTMLView",
            "description": "",
            "description_tooltip": null,
            "layout": "IPY_MODEL_9add1e791182416ca259169beeb95db5",
            "placeholder": "​",
            "style": "IPY_MODEL_7925171c3b5744d3ba498f90663c0473",
            "value": "Map: 100%"
          }
        },
        "07bdfe8ada6b464aa56047c9e6f51057": {
          "model_module": "@jupyter-widgets/controls",
          "model_name": "FloatProgressModel",
          "model_module_version": "1.5.0",
          "state": {
            "_dom_classes": [],
            "_model_module": "@jupyter-widgets/controls",
            "_model_module_version": "1.5.0",
            "_model_name": "FloatProgressModel",
            "_view_count": null,
            "_view_module": "@jupyter-widgets/controls",
            "_view_module_version": "1.5.0",
            "_view_name": "ProgressView",
            "bar_style": "success",
            "description": "",
            "description_tooltip": null,
            "layout": "IPY_MODEL_998791d28b2d4c8d91563110f052dbbe",
            "max": 924,
            "min": 0,
            "orientation": "horizontal",
            "style": "IPY_MODEL_2a4889248333407faeea34a3a47e9a6e",
            "value": 924
          }
        },
        "11d1818875564a05967eb0c783b10b46": {
          "model_module": "@jupyter-widgets/controls",
          "model_name": "HTMLModel",
          "model_module_version": "1.5.0",
          "state": {
            "_dom_classes": [],
            "_model_module": "@jupyter-widgets/controls",
            "_model_module_version": "1.5.0",
            "_model_name": "HTMLModel",
            "_view_count": null,
            "_view_module": "@jupyter-widgets/controls",
            "_view_module_version": "1.5.0",
            "_view_name": "HTMLView",
            "description": "",
            "description_tooltip": null,
            "layout": "IPY_MODEL_90354103897743a4bcd1925110b2647a",
            "placeholder": "​",
            "style": "IPY_MODEL_c22fe0f9db484e22b5be1b30189e1f55",
            "value": " 924/924 [00:00&lt;00:00, 3729.89 examples/s]"
          }
        },
        "d6f9c34c74664287a468e8d91aa2bd25": {
          "model_module": "@jupyter-widgets/base",
          "model_name": "LayoutModel",
          "model_module_version": "1.2.0",
          "state": {
            "_model_module": "@jupyter-widgets/base",
            "_model_module_version": "1.2.0",
            "_model_name": "LayoutModel",
            "_view_count": null,
            "_view_module": "@jupyter-widgets/base",
            "_view_module_version": "1.2.0",
            "_view_name": "LayoutView",
            "align_content": null,
            "align_items": null,
            "align_self": null,
            "border": null,
            "bottom": null,
            "display": null,
            "flex": null,
            "flex_flow": null,
            "grid_area": null,
            "grid_auto_columns": null,
            "grid_auto_flow": null,
            "grid_auto_rows": null,
            "grid_column": null,
            "grid_gap": null,
            "grid_row": null,
            "grid_template_areas": null,
            "grid_template_columns": null,
            "grid_template_rows": null,
            "height": null,
            "justify_content": null,
            "justify_items": null,
            "left": null,
            "margin": null,
            "max_height": null,
            "max_width": null,
            "min_height": null,
            "min_width": null,
            "object_fit": null,
            "object_position": null,
            "order": null,
            "overflow": null,
            "overflow_x": null,
            "overflow_y": null,
            "padding": null,
            "right": null,
            "top": null,
            "visibility": null,
            "width": null
          }
        },
        "9add1e791182416ca259169beeb95db5": {
          "model_module": "@jupyter-widgets/base",
          "model_name": "LayoutModel",
          "model_module_version": "1.2.0",
          "state": {
            "_model_module": "@jupyter-widgets/base",
            "_model_module_version": "1.2.0",
            "_model_name": "LayoutModel",
            "_view_count": null,
            "_view_module": "@jupyter-widgets/base",
            "_view_module_version": "1.2.0",
            "_view_name": "LayoutView",
            "align_content": null,
            "align_items": null,
            "align_self": null,
            "border": null,
            "bottom": null,
            "display": null,
            "flex": null,
            "flex_flow": null,
            "grid_area": null,
            "grid_auto_columns": null,
            "grid_auto_flow": null,
            "grid_auto_rows": null,
            "grid_column": null,
            "grid_gap": null,
            "grid_row": null,
            "grid_template_areas": null,
            "grid_template_columns": null,
            "grid_template_rows": null,
            "height": null,
            "justify_content": null,
            "justify_items": null,
            "left": null,
            "margin": null,
            "max_height": null,
            "max_width": null,
            "min_height": null,
            "min_width": null,
            "object_fit": null,
            "object_position": null,
            "order": null,
            "overflow": null,
            "overflow_x": null,
            "overflow_y": null,
            "padding": null,
            "right": null,
            "top": null,
            "visibility": null,
            "width": null
          }
        },
        "7925171c3b5744d3ba498f90663c0473": {
          "model_module": "@jupyter-widgets/controls",
          "model_name": "DescriptionStyleModel",
          "model_module_version": "1.5.0",
          "state": {
            "_model_module": "@jupyter-widgets/controls",
            "_model_module_version": "1.5.0",
            "_model_name": "DescriptionStyleModel",
            "_view_count": null,
            "_view_module": "@jupyter-widgets/base",
            "_view_module_version": "1.2.0",
            "_view_name": "StyleView",
            "description_width": ""
          }
        },
        "998791d28b2d4c8d91563110f052dbbe": {
          "model_module": "@jupyter-widgets/base",
          "model_name": "LayoutModel",
          "model_module_version": "1.2.0",
          "state": {
            "_model_module": "@jupyter-widgets/base",
            "_model_module_version": "1.2.0",
            "_model_name": "LayoutModel",
            "_view_count": null,
            "_view_module": "@jupyter-widgets/base",
            "_view_module_version": "1.2.0",
            "_view_name": "LayoutView",
            "align_content": null,
            "align_items": null,
            "align_self": null,
            "border": null,
            "bottom": null,
            "display": null,
            "flex": null,
            "flex_flow": null,
            "grid_area": null,
            "grid_auto_columns": null,
            "grid_auto_flow": null,
            "grid_auto_rows": null,
            "grid_column": null,
            "grid_gap": null,
            "grid_row": null,
            "grid_template_areas": null,
            "grid_template_columns": null,
            "grid_template_rows": null,
            "height": null,
            "justify_content": null,
            "justify_items": null,
            "left": null,
            "margin": null,
            "max_height": null,
            "max_width": null,
            "min_height": null,
            "min_width": null,
            "object_fit": null,
            "object_position": null,
            "order": null,
            "overflow": null,
            "overflow_x": null,
            "overflow_y": null,
            "padding": null,
            "right": null,
            "top": null,
            "visibility": null,
            "width": null
          }
        },
        "2a4889248333407faeea34a3a47e9a6e": {
          "model_module": "@jupyter-widgets/controls",
          "model_name": "ProgressStyleModel",
          "model_module_version": "1.5.0",
          "state": {
            "_model_module": "@jupyter-widgets/controls",
            "_model_module_version": "1.5.0",
            "_model_name": "ProgressStyleModel",
            "_view_count": null,
            "_view_module": "@jupyter-widgets/base",
            "_view_module_version": "1.2.0",
            "_view_name": "StyleView",
            "bar_color": null,
            "description_width": ""
          }
        },
        "90354103897743a4bcd1925110b2647a": {
          "model_module": "@jupyter-widgets/base",
          "model_name": "LayoutModel",
          "model_module_version": "1.2.0",
          "state": {
            "_model_module": "@jupyter-widgets/base",
            "_model_module_version": "1.2.0",
            "_model_name": "LayoutModel",
            "_view_count": null,
            "_view_module": "@jupyter-widgets/base",
            "_view_module_version": "1.2.0",
            "_view_name": "LayoutView",
            "align_content": null,
            "align_items": null,
            "align_self": null,
            "border": null,
            "bottom": null,
            "display": null,
            "flex": null,
            "flex_flow": null,
            "grid_area": null,
            "grid_auto_columns": null,
            "grid_auto_flow": null,
            "grid_auto_rows": null,
            "grid_column": null,
            "grid_gap": null,
            "grid_row": null,
            "grid_template_areas": null,
            "grid_template_columns": null,
            "grid_template_rows": null,
            "height": null,
            "justify_content": null,
            "justify_items": null,
            "left": null,
            "margin": null,
            "max_height": null,
            "max_width": null,
            "min_height": null,
            "min_width": null,
            "object_fit": null,
            "object_position": null,
            "order": null,
            "overflow": null,
            "overflow_x": null,
            "overflow_y": null,
            "padding": null,
            "right": null,
            "top": null,
            "visibility": null,
            "width": null
          }
        },
        "c22fe0f9db484e22b5be1b30189e1f55": {
          "model_module": "@jupyter-widgets/controls",
          "model_name": "DescriptionStyleModel",
          "model_module_version": "1.5.0",
          "state": {
            "_model_module": "@jupyter-widgets/controls",
            "_model_module_version": "1.5.0",
            "_model_name": "DescriptionStyleModel",
            "_view_count": null,
            "_view_module": "@jupyter-widgets/base",
            "_view_module_version": "1.2.0",
            "_view_name": "StyleView",
            "description_width": ""
          }
        },
        "49c8898ce67f4a61b542268aa0b5b70d": {
          "model_module": "@jupyter-widgets/controls",
          "model_name": "HBoxModel",
          "model_module_version": "1.5.0",
          "state": {
            "_dom_classes": [],
            "_model_module": "@jupyter-widgets/controls",
            "_model_module_version": "1.5.0",
            "_model_name": "HBoxModel",
            "_view_count": null,
            "_view_module": "@jupyter-widgets/controls",
            "_view_module_version": "1.5.0",
            "_view_name": "HBoxView",
            "box_style": "",
            "children": [
              "IPY_MODEL_4710d56af07b4836a7efd4fc253b3473",
              "IPY_MODEL_8d73c048e1c2414b9c22cb83561baad1",
              "IPY_MODEL_fcd4ca6331ac423980a07ad9c52f4234"
            ],
            "layout": "IPY_MODEL_06a0ded8f1b84788bf17c09505dd9476"
          }
        },
        "4710d56af07b4836a7efd4fc253b3473": {
          "model_module": "@jupyter-widgets/controls",
          "model_name": "HTMLModel",
          "model_module_version": "1.5.0",
          "state": {
            "_dom_classes": [],
            "_model_module": "@jupyter-widgets/controls",
            "_model_module_version": "1.5.0",
            "_model_name": "HTMLModel",
            "_view_count": null,
            "_view_module": "@jupyter-widgets/controls",
            "_view_module_version": "1.5.0",
            "_view_name": "HTMLView",
            "description": "",
            "description_tooltip": null,
            "layout": "IPY_MODEL_abb900d5b7894563878c8ae25f67c017",
            "placeholder": "​",
            "style": "IPY_MODEL_874bd1fe522247e59d1e19edd36bdee3",
            "value": "Map: 100%"
          }
        },
        "8d73c048e1c2414b9c22cb83561baad1": {
          "model_module": "@jupyter-widgets/controls",
          "model_name": "FloatProgressModel",
          "model_module_version": "1.5.0",
          "state": {
            "_dom_classes": [],
            "_model_module": "@jupyter-widgets/controls",
            "_model_module_version": "1.5.0",
            "_model_name": "FloatProgressModel",
            "_view_count": null,
            "_view_module": "@jupyter-widgets/controls",
            "_view_module_version": "1.5.0",
            "_view_name": "ProgressView",
            "bar_style": "success",
            "description": "",
            "description_tooltip": null,
            "layout": "IPY_MODEL_267c8e769a674e05ac1633f584a64aaf",
            "max": 941,
            "min": 0,
            "orientation": "horizontal",
            "style": "IPY_MODEL_94d4cdab193a42999912654857ffd4e0",
            "value": 941
          }
        },
        "fcd4ca6331ac423980a07ad9c52f4234": {
          "model_module": "@jupyter-widgets/controls",
          "model_name": "HTMLModel",
          "model_module_version": "1.5.0",
          "state": {
            "_dom_classes": [],
            "_model_module": "@jupyter-widgets/controls",
            "_model_module_version": "1.5.0",
            "_model_name": "HTMLModel",
            "_view_count": null,
            "_view_module": "@jupyter-widgets/controls",
            "_view_module_version": "1.5.0",
            "_view_name": "HTMLView",
            "description": "",
            "description_tooltip": null,
            "layout": "IPY_MODEL_fefa636328f644eab8750654e975c80c",
            "placeholder": "​",
            "style": "IPY_MODEL_21a17fe50c4040d5a0f08a87d8f71a2c",
            "value": " 941/941 [00:00&lt;00:00, 3529.43 examples/s]"
          }
        },
        "06a0ded8f1b84788bf17c09505dd9476": {
          "model_module": "@jupyter-widgets/base",
          "model_name": "LayoutModel",
          "model_module_version": "1.2.0",
          "state": {
            "_model_module": "@jupyter-widgets/base",
            "_model_module_version": "1.2.0",
            "_model_name": "LayoutModel",
            "_view_count": null,
            "_view_module": "@jupyter-widgets/base",
            "_view_module_version": "1.2.0",
            "_view_name": "LayoutView",
            "align_content": null,
            "align_items": null,
            "align_self": null,
            "border": null,
            "bottom": null,
            "display": null,
            "flex": null,
            "flex_flow": null,
            "grid_area": null,
            "grid_auto_columns": null,
            "grid_auto_flow": null,
            "grid_auto_rows": null,
            "grid_column": null,
            "grid_gap": null,
            "grid_row": null,
            "grid_template_areas": null,
            "grid_template_columns": null,
            "grid_template_rows": null,
            "height": null,
            "justify_content": null,
            "justify_items": null,
            "left": null,
            "margin": null,
            "max_height": null,
            "max_width": null,
            "min_height": null,
            "min_width": null,
            "object_fit": null,
            "object_position": null,
            "order": null,
            "overflow": null,
            "overflow_x": null,
            "overflow_y": null,
            "padding": null,
            "right": null,
            "top": null,
            "visibility": null,
            "width": null
          }
        },
        "abb900d5b7894563878c8ae25f67c017": {
          "model_module": "@jupyter-widgets/base",
          "model_name": "LayoutModel",
          "model_module_version": "1.2.0",
          "state": {
            "_model_module": "@jupyter-widgets/base",
            "_model_module_version": "1.2.0",
            "_model_name": "LayoutModel",
            "_view_count": null,
            "_view_module": "@jupyter-widgets/base",
            "_view_module_version": "1.2.0",
            "_view_name": "LayoutView",
            "align_content": null,
            "align_items": null,
            "align_self": null,
            "border": null,
            "bottom": null,
            "display": null,
            "flex": null,
            "flex_flow": null,
            "grid_area": null,
            "grid_auto_columns": null,
            "grid_auto_flow": null,
            "grid_auto_rows": null,
            "grid_column": null,
            "grid_gap": null,
            "grid_row": null,
            "grid_template_areas": null,
            "grid_template_columns": null,
            "grid_template_rows": null,
            "height": null,
            "justify_content": null,
            "justify_items": null,
            "left": null,
            "margin": null,
            "max_height": null,
            "max_width": null,
            "min_height": null,
            "min_width": null,
            "object_fit": null,
            "object_position": null,
            "order": null,
            "overflow": null,
            "overflow_x": null,
            "overflow_y": null,
            "padding": null,
            "right": null,
            "top": null,
            "visibility": null,
            "width": null
          }
        },
        "874bd1fe522247e59d1e19edd36bdee3": {
          "model_module": "@jupyter-widgets/controls",
          "model_name": "DescriptionStyleModel",
          "model_module_version": "1.5.0",
          "state": {
            "_model_module": "@jupyter-widgets/controls",
            "_model_module_version": "1.5.0",
            "_model_name": "DescriptionStyleModel",
            "_view_count": null,
            "_view_module": "@jupyter-widgets/base",
            "_view_module_version": "1.2.0",
            "_view_name": "StyleView",
            "description_width": ""
          }
        },
        "267c8e769a674e05ac1633f584a64aaf": {
          "model_module": "@jupyter-widgets/base",
          "model_name": "LayoutModel",
          "model_module_version": "1.2.0",
          "state": {
            "_model_module": "@jupyter-widgets/base",
            "_model_module_version": "1.2.0",
            "_model_name": "LayoutModel",
            "_view_count": null,
            "_view_module": "@jupyter-widgets/base",
            "_view_module_version": "1.2.0",
            "_view_name": "LayoutView",
            "align_content": null,
            "align_items": null,
            "align_self": null,
            "border": null,
            "bottom": null,
            "display": null,
            "flex": null,
            "flex_flow": null,
            "grid_area": null,
            "grid_auto_columns": null,
            "grid_auto_flow": null,
            "grid_auto_rows": null,
            "grid_column": null,
            "grid_gap": null,
            "grid_row": null,
            "grid_template_areas": null,
            "grid_template_columns": null,
            "grid_template_rows": null,
            "height": null,
            "justify_content": null,
            "justify_items": null,
            "left": null,
            "margin": null,
            "max_height": null,
            "max_width": null,
            "min_height": null,
            "min_width": null,
            "object_fit": null,
            "object_position": null,
            "order": null,
            "overflow": null,
            "overflow_x": null,
            "overflow_y": null,
            "padding": null,
            "right": null,
            "top": null,
            "visibility": null,
            "width": null
          }
        },
        "94d4cdab193a42999912654857ffd4e0": {
          "model_module": "@jupyter-widgets/controls",
          "model_name": "ProgressStyleModel",
          "model_module_version": "1.5.0",
          "state": {
            "_model_module": "@jupyter-widgets/controls",
            "_model_module_version": "1.5.0",
            "_model_name": "ProgressStyleModel",
            "_view_count": null,
            "_view_module": "@jupyter-widgets/base",
            "_view_module_version": "1.2.0",
            "_view_name": "StyleView",
            "bar_color": null,
            "description_width": ""
          }
        },
        "fefa636328f644eab8750654e975c80c": {
          "model_module": "@jupyter-widgets/base",
          "model_name": "LayoutModel",
          "model_module_version": "1.2.0",
          "state": {
            "_model_module": "@jupyter-widgets/base",
            "_model_module_version": "1.2.0",
            "_model_name": "LayoutModel",
            "_view_count": null,
            "_view_module": "@jupyter-widgets/base",
            "_view_module_version": "1.2.0",
            "_view_name": "LayoutView",
            "align_content": null,
            "align_items": null,
            "align_self": null,
            "border": null,
            "bottom": null,
            "display": null,
            "flex": null,
            "flex_flow": null,
            "grid_area": null,
            "grid_auto_columns": null,
            "grid_auto_flow": null,
            "grid_auto_rows": null,
            "grid_column": null,
            "grid_gap": null,
            "grid_row": null,
            "grid_template_areas": null,
            "grid_template_columns": null,
            "grid_template_rows": null,
            "height": null,
            "justify_content": null,
            "justify_items": null,
            "left": null,
            "margin": null,
            "max_height": null,
            "max_width": null,
            "min_height": null,
            "min_width": null,
            "object_fit": null,
            "object_position": null,
            "order": null,
            "overflow": null,
            "overflow_x": null,
            "overflow_y": null,
            "padding": null,
            "right": null,
            "top": null,
            "visibility": null,
            "width": null
          }
        },
        "21a17fe50c4040d5a0f08a87d8f71a2c": {
          "model_module": "@jupyter-widgets/controls",
          "model_name": "DescriptionStyleModel",
          "model_module_version": "1.5.0",
          "state": {
            "_model_module": "@jupyter-widgets/controls",
            "_model_module_version": "1.5.0",
            "_model_name": "DescriptionStyleModel",
            "_view_count": null,
            "_view_module": "@jupyter-widgets/base",
            "_view_module_version": "1.2.0",
            "_view_name": "StyleView",
            "description_width": ""
          }
        }
      }
    }
  },
  "cells": [
    {
      "cell_type": "markdown",
      "metadata": {
        "id": "view-in-github",
        "colab_type": "text"
      },
      "source": [
        "<a href=\"https://colab.research.google.com/github/jose-cano/Deep-Learning/blob/main/NER_POC.ipynb\" target=\"_parent\"><img src=\"https://colab.research.google.com/assets/colab-badge.svg\" alt=\"Open In Colab\"/></a>"
      ]
    },
    {
      "cell_type": "markdown",
      "source": [
        "Dataset: https://huggingface.co/datasets/ncbi_disease\n",
        "\n",
        "Leaderboard: https://paperswithcode.com/sota/named-entity-recognition-ner-on-ncbi-disease\n",
        "\n",
        "potential system: https://huggingface.co/datasets/rjac/biobert-ner-diseases-dataset\n",
        "\n",
        "https://huggingface.co/alvaroalon2/biobert_chemical_ner\n",
        "\n",
        "https://huggingface.co/alvaroalon2/biobert_genetic_ner\n",
        "\n",
        "datasets of potential system: https://github.com/librairy/bio-ner\n",
        "\n",
        "HF dataset object with Spark: https://huggingface.co/docs/datasets/use_with_spark\n",
        "\n",
        "Loading text data: https://huggingface.co/docs/datasets/nlp_load"
      ],
      "metadata": {
        "id": "QzeL3mmY_H7c"
      }
    },
    {
      "cell_type": "markdown",
      "source": [
        "# Named Entity Recognition - Proof of Concept"
      ],
      "metadata": {
        "id": "RGvpKbJs6S9T"
      }
    },
    {
      "cell_type": "markdown",
      "source": [
        "Named entity recognition (NER): The task is to find the entities (such as persons, locations, or organizations) in a sentence. This can be formulated as attributing a label to each token by having one class per entity and one class for “no entity.”\n",
        "\n",
        "Thus, it is also known as *_Token Classification_*"
      ],
      "metadata": {
        "id": "0M7ODUfL6vYn"
      }
    },
    {
      "cell_type": "markdown",
      "source": [
        "![image.png](data:image/png;base64,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)"
      ],
      "metadata": {
        "id": "mPlM08tE6t4m"
      }
    },
    {
      "cell_type": "code",
      "source": [
        "!pip install transformers datasets accelerate -U"
      ],
      "metadata": {
        "id": "Xj9RDZ1H8YWj",
        "colab": {
          "base_uri": "https://localhost:8080/"
        },
        "outputId": "95dfa6a2-d966-4609-9a6b-8a762ad7ca40"
      },
      "execution_count": 21,
      "outputs": [
        {
          "output_type": "stream",
          "name": "stdout",
          "text": [
            "Requirement already satisfied: transformers in /usr/local/lib/python3.10/dist-packages (4.35.2)\n",
            "Requirement already satisfied: datasets in /usr/local/lib/python3.10/dist-packages (2.15.0)\n",
            "Requirement already satisfied: accelerate in /usr/local/lib/python3.10/dist-packages (0.24.1)\n",
            "Requirement already satisfied: filelock in /usr/local/lib/python3.10/dist-packages (from transformers) (3.13.1)\n",
            "Requirement already satisfied: huggingface-hub<1.0,>=0.16.4 in /usr/local/lib/python3.10/dist-packages (from transformers) (0.19.3)\n",
            "Requirement already satisfied: numpy>=1.17 in /usr/local/lib/python3.10/dist-packages (from transformers) (1.23.5)\n",
            "Requirement already satisfied: packaging>=20.0 in /usr/local/lib/python3.10/dist-packages (from transformers) (23.2)\n",
            "Requirement already satisfied: pyyaml>=5.1 in /usr/local/lib/python3.10/dist-packages (from transformers) (6.0.1)\n",
            "Requirement already satisfied: regex!=2019.12.17 in /usr/local/lib/python3.10/dist-packages (from transformers) (2023.6.3)\n",
            "Requirement already satisfied: requests in /usr/local/lib/python3.10/dist-packages (from transformers) (2.31.0)\n",
            "Requirement already satisfied: tokenizers<0.19,>=0.14 in /usr/local/lib/python3.10/dist-packages (from transformers) (0.15.0)\n",
            "Requirement already satisfied: safetensors>=0.3.1 in /usr/local/lib/python3.10/dist-packages (from transformers) (0.4.0)\n",
            "Requirement already satisfied: tqdm>=4.27 in /usr/local/lib/python3.10/dist-packages (from transformers) (4.66.1)\n",
            "Requirement already satisfied: pyarrow>=8.0.0 in /usr/local/lib/python3.10/dist-packages (from datasets) (9.0.0)\n",
            "Requirement already satisfied: pyarrow-hotfix in /usr/local/lib/python3.10/dist-packages (from datasets) (0.5)\n",
            "Requirement already satisfied: dill<0.3.8,>=0.3.0 in /usr/local/lib/python3.10/dist-packages (from datasets) (0.3.7)\n",
            "Requirement already satisfied: pandas in /usr/local/lib/python3.10/dist-packages (from datasets) (1.5.3)\n",
            "Requirement already satisfied: xxhash in /usr/local/lib/python3.10/dist-packages (from datasets) (3.4.1)\n",
            "Requirement already satisfied: multiprocess in /usr/local/lib/python3.10/dist-packages (from datasets) (0.70.15)\n",
            "Requirement already satisfied: fsspec[http]<=2023.10.0,>=2023.1.0 in /usr/local/lib/python3.10/dist-packages (from datasets) (2023.6.0)\n",
            "Requirement already satisfied: aiohttp in /usr/local/lib/python3.10/dist-packages (from datasets) (3.8.6)\n",
            "Requirement already satisfied: psutil in /usr/local/lib/python3.10/dist-packages (from accelerate) (5.9.5)\n",
            "Requirement already satisfied: torch>=1.10.0 in /usr/local/lib/python3.10/dist-packages (from accelerate) (2.1.0+cu118)\n",
            "Requirement already satisfied: attrs>=17.3.0 in /usr/local/lib/python3.10/dist-packages (from aiohttp->datasets) (23.1.0)\n",
            "Requirement already satisfied: charset-normalizer<4.0,>=2.0 in /usr/local/lib/python3.10/dist-packages (from aiohttp->datasets) (3.3.2)\n",
            "Requirement already satisfied: multidict<7.0,>=4.5 in /usr/local/lib/python3.10/dist-packages (from aiohttp->datasets) (6.0.4)\n",
            "Requirement already satisfied: async-timeout<5.0,>=4.0.0a3 in /usr/local/lib/python3.10/dist-packages (from aiohttp->datasets) (4.0.3)\n",
            "Requirement already satisfied: yarl<2.0,>=1.0 in /usr/local/lib/python3.10/dist-packages (from aiohttp->datasets) (1.9.2)\n",
            "Requirement already satisfied: frozenlist>=1.1.1 in /usr/local/lib/python3.10/dist-packages (from aiohttp->datasets) (1.4.0)\n",
            "Requirement already satisfied: aiosignal>=1.1.2 in /usr/local/lib/python3.10/dist-packages (from aiohttp->datasets) (1.3.1)\n",
            "Requirement already satisfied: typing-extensions>=3.7.4.3 in /usr/local/lib/python3.10/dist-packages (from huggingface-hub<1.0,>=0.16.4->transformers) (4.5.0)\n",
            "Requirement already satisfied: idna<4,>=2.5 in /usr/local/lib/python3.10/dist-packages (from requests->transformers) (3.4)\n",
            "Requirement already satisfied: urllib3<3,>=1.21.1 in /usr/local/lib/python3.10/dist-packages (from requests->transformers) (2.0.7)\n",
            "Requirement already satisfied: certifi>=2017.4.17 in /usr/local/lib/python3.10/dist-packages (from requests->transformers) (2023.7.22)\n",
            "Requirement already satisfied: sympy in /usr/local/lib/python3.10/dist-packages (from torch>=1.10.0->accelerate) (1.12)\n",
            "Requirement already satisfied: networkx in /usr/local/lib/python3.10/dist-packages (from torch>=1.10.0->accelerate) (3.2.1)\n",
            "Requirement already satisfied: jinja2 in /usr/local/lib/python3.10/dist-packages (from torch>=1.10.0->accelerate) (3.1.2)\n",
            "Requirement already satisfied: triton==2.1.0 in /usr/local/lib/python3.10/dist-packages (from torch>=1.10.0->accelerate) (2.1.0)\n",
            "Requirement already satisfied: python-dateutil>=2.8.1 in /usr/local/lib/python3.10/dist-packages (from pandas->datasets) (2.8.2)\n",
            "Requirement already satisfied: pytz>=2020.1 in /usr/local/lib/python3.10/dist-packages (from pandas->datasets) (2023.3.post1)\n",
            "Requirement already satisfied: six>=1.5 in /usr/local/lib/python3.10/dist-packages (from python-dateutil>=2.8.1->pandas->datasets) (1.16.0)\n",
            "Requirement already satisfied: MarkupSafe>=2.0 in /usr/local/lib/python3.10/dist-packages (from jinja2->torch>=1.10.0->accelerate) (2.1.3)\n",
            "Requirement already satisfied: mpmath>=0.19 in /usr/local/lib/python3.10/dist-packages (from sympy->torch>=1.10.0->accelerate) (1.3.0)\n"
          ]
        }
      ]
    },
    {
      "cell_type": "code",
      "source": [
        "import pandas as pd\n",
        "from transformers import pipeline\n",
        "from datasets import load_dataset"
      ],
      "metadata": {
        "id": "AiTUxNy57u6h"
      },
      "execution_count": 22,
      "outputs": []
    },
    {
      "cell_type": "markdown",
      "source": [
        "This dataset contains the disease name and concept annotations of the NCBI disease corpus, a collection of 793 PubMed abstracts fully annotated at the mention and concept level to serve as a research resource for the biomedical natural language processing community.\n",
        "\n",
        "Data Fields\n",
        "```\n",
        "id: Sentence identifier.\n",
        "\n",
        "tokens: Array of tokens composing a sentence.\n",
        "\n",
        "ner_tags: Array of tags, where 0 indicates no disease mentioned, 1 signals the first token of a disease and 2 the subsequent disease tokens.\n",
        "\n",
        "Data Splits: The data is split into a train (5433 instances), validation (924 instances) and test set (941 instances).\n",
        "```"
      ],
      "metadata": {
        "id": "VmzGhxJV81cF"
      }
    },
    {
      "cell_type": "code",
      "source": [
        "data = load_dataset('ncbi_disease')\n",
        "data"
      ],
      "metadata": {
        "colab": {
          "base_uri": "https://localhost:8080/"
        },
        "id": "I6j479g-6BnN",
        "outputId": "9732f46a-33d6-49b2-f1c2-de379ef453c9"
      },
      "execution_count": 23,
      "outputs": [
        {
          "output_type": "execute_result",
          "data": {
            "text/plain": [
              "DatasetDict({\n",
              "    train: Dataset({\n",
              "        features: ['id', 'tokens', 'ner_tags'],\n",
              "        num_rows: 5433\n",
              "    })\n",
              "    validation: Dataset({\n",
              "        features: ['id', 'tokens', 'ner_tags'],\n",
              "        num_rows: 924\n",
              "    })\n",
              "    test: Dataset({\n",
              "        features: ['id', 'tokens', 'ner_tags'],\n",
              "        num_rows: 941\n",
              "    })\n",
              "})"
            ]
          },
          "metadata": {},
          "execution_count": 23
        }
      ]
    },
    {
      "cell_type": "code",
      "source": [
        "# First sample\n",
        "data['train'][0]"
      ],
      "metadata": {
        "colab": {
          "base_uri": "https://localhost:8080/"
        },
        "id": "kgcSt_q48fuh",
        "outputId": "28d0077c-10c0-449b-9077-96168dc4d828"
      },
      "execution_count": 39,
      "outputs": [
        {
          "output_type": "execute_result",
          "data": {
            "text/plain": [
              "{'id': '0',\n",
              " 'tokens': ['Identification',\n",
              "  'of',\n",
              "  'APC2',\n",
              "  ',',\n",
              "  'a',\n",
              "  'homologue',\n",
              "  'of',\n",
              "  'the',\n",
              "  'adenomatous',\n",
              "  'polyposis',\n",
              "  'coli',\n",
              "  'tumour',\n",
              "  'suppressor',\n",
              "  '.'],\n",
              " 'ner_tags': [0, 0, 0, 0, 0, 0, 0, 0, 1, 2, 2, 2, 0, 0]}"
            ]
          },
          "metadata": {},
          "execution_count": 39
        }
      ]
    },
    {
      "cell_type": "code",
      "source": [
        "# Features, such as ner_tag labels\n",
        "data['train'].features"
      ],
      "metadata": {
        "colab": {
          "base_uri": "https://localhost:8080/"
        },
        "id": "do77kXSt8im8",
        "outputId": "cc1cfa90-ec28-48a3-eedc-4b0010f7ff70"
      },
      "execution_count": 40,
      "outputs": [
        {
          "output_type": "execute_result",
          "data": {
            "text/plain": [
              "{'id': Value(dtype='string', id=None),\n",
              " 'tokens': Sequence(feature=Value(dtype='string', id=None), length=-1, id=None),\n",
              " 'ner_tags': Sequence(feature=ClassLabel(names=['O', 'B-Disease', 'I-Disease'], id=None), length=-1, id=None)}"
            ]
          },
          "metadata": {},
          "execution_count": 40
        }
      ]
    },
    {
      "cell_type": "code",
      "source": [
        "# Notice punctuation\n",
        "\" \".join(['Identification',  'of',  'APC2',  ',',  'a',  'homologue',  'of',  'the',  'adenomatous',  'polyposis',  'coli',  'tumour',  'suppressor',  '.'],)"
      ],
      "metadata": {
        "colab": {
          "base_uri": "https://localhost:8080/",
          "height": 36
        },
        "id": "ICygKBlNEnqi",
        "outputId": "e2fe92c9-63fd-4038-b7c8-b293bbc91942"
      },
      "execution_count": null,
      "outputs": [
        {
          "output_type": "execute_result",
          "data": {
            "text/plain": [
              "'Identification of APC2 , a homologue of the adenomatous polyposis coli tumour suppressor .'"
            ],
            "application/vnd.google.colaboratory.intrinsic+json": {
              "type": "string"
            }
          },
          "metadata": {},
          "execution_count": 8
        }
      ]
    },
    {
      "cell_type": "code",
      "source": [
        "# After we've loaded in a dataset, we should tokenize it\n",
        "# Example of tokenizing inputs that have already been split into words (and labeled, so this will cause missalignment)\n",
        "from transformers import AutoTokenizer\n",
        "\n",
        "\n",
        "checkpoint = \"distilbert-base-cased\"\n",
        "#checkpoint = \"dmis-lab/biobert-base-cased-v1.2\"\n",
        "#checkpoint = \"emilyalsentzer/Bio_ClinicalBERT\"\n",
        "\n",
        "tokenizer = AutoTokenizer.from_pretrained(checkpoint)\n",
        "\n",
        "# example\n",
        "tokenized_1 = tokenizer(data['train'][0]['tokens'], is_split_into_words=True)"
      ],
      "metadata": {
        "id": "1HeG8ov-EqGY",
        "colab": {
          "base_uri": "https://localhost:8080/",
          "height": 145,
          "referenced_widgets": [
            "2524a1dcf7934b31a900578aaef54006",
            "de6f6ff0364c487bb632a2b162b2ddf2",
            "bf757d4b26974316aee09272372b3155",
            "b1547d6dfd874fdbb27044161e725bf6",
            "f4e314eb63614dc699f1f0c320bce842",
            "9b1849846d8245e49c7f1143eb22ac36",
            "3a4e0f26de534391a72eeea733414532",
            "db43bc1ec4c54daca597579fb900b3c9",
            "7e0e6cb900424864933a2e9b1c3b03f2",
            "2211a2de07374b3fb18cec2964887122",
            "002f21db28f14bfd981894073b231dd3",
            "751e83679c644152be218b3bf4d2c53a",
            "f565891094c84798969f359c56b80df9",
            "dbd4d895a0cf4ffcb4e9a2dc449836e0",
            "5d011103e5824d79b28d94fb378c976f",
            "783002c3d4964789a775405cda05313e",
            "0abbc3437fa549b29fa34b0d289ec077",
            "5bf4b2585fdf48dab7ba2392138b110a",
            "a646dd4cc0f14b8a96b54fe04cf596ff",
            "b2ed7540c3694b92b4ad87f050fe22fd",
            "953288bba68d43dd99c3697a3d5bd147",
            "e4dddda6c5a8476284590fc4ed61c8c6",
            "c092f58650d24521aa461f6ea461d780",
            "b6a39a9e0acb4fe29283eeb01fbcec7c",
            "82399e75070c46e080d608614d0f1447",
            "9e75ec28a5b0418a9041fb154e4f6962",
            "909b3e121ce749d8854781eb694ec460",
            "99ee96ce4ee94d6989246c5523cc3af1",
            "010918707d27458d95a5982d24f4ec98",
            "d604162b175a44b4a34925e73130b7be",
            "3240445389a442a0960a416b4963499d",
            "e3ea320888be4078a380af344ce79dac",
            "c6d0457075e54fbf91a000f38a607db9",
            "88d178d9102946e89083d53a92fca15b",
            "88309d55c3fe4c939f680cbc7e85fdf6",
            "90d47b57e7bb478297ae38bd10815497",
            "b44bfcde03b24422895b0d1bb11d97ad",
            "721e44b0c0b64465a6947b3964e1db37",
            "74086c4c90df46dc8c309aaeb8359372",
            "e4c1403606e149cf8eb1fe188ec45614",
            "7c8a60c2c08e48d6b43678364ddc0028",
            "2b5a74bcdbb941979df56bbd20a5562f",
            "0e37dcffbe544994907a3f243dad81ae",
            "734ef2f4e36242908836f868b0c565cb"
          ]
        },
        "outputId": "ead1a6e9-9460-49dd-8826-ab5cde58a8a7"
      },
      "execution_count": 41,
      "outputs": [
        {
          "output_type": "display_data",
          "data": {
            "text/plain": [
              "tokenizer_config.json:   0%|          | 0.00/29.0 [00:00<?, ?B/s]"
            ],
            "application/vnd.jupyter.widget-view+json": {
              "version_major": 2,
              "version_minor": 0,
              "model_id": "2524a1dcf7934b31a900578aaef54006"
            }
          },
          "metadata": {}
        },
        {
          "output_type": "display_data",
          "data": {
            "text/plain": [
              "config.json:   0%|          | 0.00/465 [00:00<?, ?B/s]"
            ],
            "application/vnd.jupyter.widget-view+json": {
              "version_major": 2,
              "version_minor": 0,
              "model_id": "751e83679c644152be218b3bf4d2c53a"
            }
          },
          "metadata": {}
        },
        {
          "output_type": "display_data",
          "data": {
            "text/plain": [
              "vocab.txt:   0%|          | 0.00/213k [00:00<?, ?B/s]"
            ],
            "application/vnd.jupyter.widget-view+json": {
              "version_major": 2,
              "version_minor": 0,
              "model_id": "c092f58650d24521aa461f6ea461d780"
            }
          },
          "metadata": {}
        },
        {
          "output_type": "display_data",
          "data": {
            "text/plain": [
              "tokenizer.json:   0%|          | 0.00/436k [00:00<?, ?B/s]"
            ],
            "application/vnd.jupyter.widget-view+json": {
              "version_major": 2,
              "version_minor": 0,
              "model_id": "88d178d9102946e89083d53a92fca15b"
            }
          },
          "metadata": {}
        }
      ]
    },
    {
      "cell_type": "code",
      "source": [
        "tokenized_1"
      ],
      "metadata": {
        "colab": {
          "base_uri": "https://localhost:8080/"
        },
        "id": "FRW_OZy0G3NM",
        "outputId": "96804b50-7b33-4833-f4a4-53e5006a47b0"
      },
      "execution_count": null,
      "outputs": [
        {
          "output_type": "execute_result",
          "data": {
            "text/plain": [
              "{'input_ids': [101, 146, 11951, 5783, 1104, 10997, 1658, 1477, 117, 170, 16358, 3702, 12733, 1104, 1103, 8050, 26601, 21943, 2285, 185, 23415, 5674, 4863, 1884, 2646, 189, 27226, 17203, 1766, 119, 102], 'attention_mask': [1, 1, 1, 1, 1, 1, 1, 1, 1, 1, 1, 1, 1, 1, 1, 1, 1, 1, 1, 1, 1, 1, 1, 1, 1, 1, 1, 1, 1, 1, 1]}"
            ]
          },
          "metadata": {},
          "execution_count": 5
        }
      ]
    },
    {
      "cell_type": "markdown",
      "source": [
        "Because we've tokenized some words into subwords, the input sequence may end up being longer than the target sequence.\n",
        "\n",
        "We need to align the targets with the inputs in order for our model to learn how to tag properly.\n",
        "\n",
        "For any input word that was split into a subword, we assign the same target. By the end of this process, the length of inputs should be the same as the length of targets.\n",
        "\n",
        "Also note, tumor vs tumour.\n",
        "```\n",
        "'tumour' -> Disease\n",
        "\n",
        "'t' -> B-Disease\n",
        "\n",
        "'##umour' -> I-Disease\n",
        "```"
      ],
      "metadata": {
        "id": "obvpJeXFLI4e"
      }
    },
    {
      "cell_type": "markdown",
      "source": [
        "In BERT architectures, the [CLS] and [SEP] tokens are legitimate tokens that go into the model as inputs. Thus, they also need a specific label. The documentation specifies these tokens should have a label of -100 for the model to ignore them.\n",
        "\n",
        "https://huggingface.co/docs/transformers/tasks/token_classification"
      ],
      "metadata": {
        "id": "wn1jgobJoLpG"
      }
    },
    {
      "cell_type": "code",
      "source": [
        "print(tokenized_1.tokens()),\n",
        "print(tokenized_1.word_ids())"
      ],
      "metadata": {
        "id": "RJkOooeXIStt",
        "colab": {
          "base_uri": "https://localhost:8080/"
        },
        "outputId": "1dbf6e6c-b3b8-46e9-cab2-d90645c1b890"
      },
      "execution_count": 42,
      "outputs": [
        {
          "output_type": "stream",
          "name": "stdout",
          "text": [
            "['[CLS]', 'I', '##dent', '##ification', 'of', 'AP', '##C', '##2', ',', 'a', 'ho', '##mo', '##logue', 'of', 'the', 'ad', '##eno', '##mat', '##ous', 'p', '##oly', '##po', '##sis', 'co', '##li', 't', '##umour', 'suppress', '##or', '.', '[SEP]']\n",
            "[None, 0, 0, 0, 1, 2, 2, 2, 3, 4, 5, 5, 5, 6, 7, 8, 8, 8, 8, 9, 9, 9, 9, 10, 10, 11, 11, 12, 12, 13, None]\n"
          ]
        }
      ]
    },
    {
      "cell_type": "code",
      "source": [
        "data['train'][0]['ner_tags']"
      ],
      "metadata": {
        "colab": {
          "base_uri": "https://localhost:8080/"
        },
        "id": "JztLigOFtqBQ",
        "outputId": "78ce1625-a3f2-4be6-d0f1-3b479fd2ac80"
      },
      "execution_count": null,
      "outputs": [
        {
          "output_type": "execute_result",
          "data": {
            "text/plain": [
              "[0, 0, 0, 0, 0, 0, 0, 0, 1, 2, 2, 2, 0, 0]"
            ]
          },
          "metadata": {},
          "execution_count": 12
        }
      ]
    },
    {
      "cell_type": "code",
      "source": [
        "# Recall ['O', 'B-Disease', 'I-Disease']\n",
        "# Zero is not needed\n",
        "begin2inside = {\n",
        "    1:2,\n",
        "}"
      ],
      "metadata": {
        "id": "fwNibFtZ8Te1"
      },
      "execution_count": 32,
      "outputs": []
    },
    {
      "cell_type": "code",
      "source": [
        "# Conceptually\n",
        "\n",
        "word_ids = [None, 0, 0, 0, 1, 2, 2, 2, 3, 4, 5, 5, 5, 6, 7, 8, 8, 8, 8, 9, 9, 9, 9, 10, 10, 11, 11, 12, 12, 13, None]\n",
        "labels = [0, 0, 0, 0, 0, 0, 0, 0, 1, 2, 2, 2, 0, 0]"
      ],
      "metadata": {
        "id": "KSzwjqsC3Sm3"
      },
      "execution_count": null,
      "outputs": []
    },
    {
      "cell_type": "code",
      "source": [
        "def align_targets(labels, word_ids):\n",
        "\n",
        "  aligned_labels = []\n",
        "  last_word = None\n",
        "\n",
        "  for word in word_ids:\n",
        "\n",
        "    if word is None: # [CLS] or [SEP] tokens\n",
        "      label = -100\n",
        "\n",
        "    elif word != last_word: # New word (word ID different from previous)\n",
        "      label = labels[word]\n",
        "\n",
        "    else: # Same word as before\n",
        "      label = labels[word]\n",
        "\n",
        "      if label in begin2inside:\n",
        "        label = begin2inside[label]\n",
        "\n",
        "    aligned_labels.append(label) # Add the label\n",
        "    last_word = word # Update last word\n",
        "\n",
        "  return aligned_labels"
      ],
      "metadata": {
        "id": "H3qhD9xOwdjZ"
      },
      "execution_count": 36,
      "outputs": []
    },
    {
      "cell_type": "code",
      "source": [
        "# try our function\n",
        "idx = 0\n",
        "labels = data['train'][idx]['ner_tags']\n",
        "word_ids = tokenized_1.word_ids()\n",
        "aligned_targets = align_targets(labels, word_ids)\n",
        "print(aligned_targets)"
      ],
      "metadata": {
        "colab": {
          "base_uri": "https://localhost:8080/"
        },
        "id": "e0rkcNmC9THf",
        "outputId": "bebf5efa-59c6-44ab-d6a4-748f4d29b8d5"
      },
      "execution_count": 43,
      "outputs": [
        {
          "output_type": "stream",
          "name": "stdout",
          "text": [
            "[-100, 0, 0, 0, 0, 0, 0, 0, 0, 0, 0, 0, 0, 0, 0, 1, 2, 2, 2, 2, 2, 2, 2, 2, 2, 2, 2, 0, 0, 0, -100]\n"
          ]
        }
      ]
    },
    {
      "cell_type": "code",
      "source": [
        "label_names = data[\"train\"].features['ner_tags'].feature.names\n",
        "aligned_labels = [label_names[t] if t >= 0 else None for t in aligned_targets]\n",
        "for x, y in zip(tokenized_1.tokens(), aligned_labels):\n",
        "  print(f\"{x}\\t{y}\")"
      ],
      "metadata": {
        "colab": {
          "base_uri": "https://localhost:8080/"
        },
        "id": "dJJV91B39beD",
        "outputId": "7ea353e5-d393-4af2-b9f5-f42014c8d152"
      },
      "execution_count": 44,
      "outputs": [
        {
          "output_type": "stream",
          "name": "stdout",
          "text": [
            "[CLS]\tNone\n",
            "I\tO\n",
            "##dent\tO\n",
            "##ification\tO\n",
            "of\tO\n",
            "AP\tO\n",
            "##C\tO\n",
            "##2\tO\n",
            ",\tO\n",
            "a\tO\n",
            "ho\tO\n",
            "##mo\tO\n",
            "##logue\tO\n",
            "of\tO\n",
            "the\tO\n",
            "ad\tB-Disease\n",
            "##eno\tI-Disease\n",
            "##mat\tI-Disease\n",
            "##ous\tI-Disease\n",
            "p\tI-Disease\n",
            "##oly\tI-Disease\n",
            "##po\tI-Disease\n",
            "##sis\tI-Disease\n",
            "co\tI-Disease\n",
            "##li\tI-Disease\n",
            "t\tI-Disease\n",
            "##umour\tI-Disease\n",
            "suppress\tO\n",
            "##or\tO\n",
            ".\tO\n",
            "[SEP]\tNone\n"
          ]
        }
      ]
    },
    {
      "cell_type": "code",
      "source": [
        "# tokenize both inputs and align targets\n",
        "def tokenize_fn(batch):\n",
        "  # tokenize the input sequence first\n",
        "  # this populates input_ids, attention_mask, etc.\n",
        "  tokenized_inputs = tokenizer(\n",
        "    batch['tokens'], truncation=True, is_split_into_words=True\n",
        "  )\n",
        "\n",
        "  labels_batch = batch['ner_tags'] # original targets\n",
        "  aligned_labels_batch = []\n",
        "  for i, labels in enumerate(labels_batch):\n",
        "    word_ids = tokenized_inputs.word_ids(i)\n",
        "    aligned_labels_batch.append(align_targets(labels, word_ids))\n",
        "\n",
        "  # recall: the 'target' must be stored in key called 'labels'\n",
        "  tokenized_inputs['labels'] = aligned_labels_batch\n",
        "\n",
        "  return tokenized_inputs"
      ],
      "metadata": {
        "id": "sQWRDH2_-PFY"
      },
      "execution_count": 45,
      "outputs": []
    },
    {
      "cell_type": "code",
      "source": [
        "# want to remove these from model inputs - they are neither inputs nor targets\n",
        "data[\"train\"].column_names"
      ],
      "metadata": {
        "colab": {
          "base_uri": "https://localhost:8080/"
        },
        "id": "EoSZ45JGRB-K",
        "outputId": "72e93b69-2971-4b3b-dc6d-07b6486e56a6"
      },
      "execution_count": 46,
      "outputs": [
        {
          "output_type": "execute_result",
          "data": {
            "text/plain": [
              "['id', 'tokens', 'ner_tags']"
            ]
          },
          "metadata": {},
          "execution_count": 46
        }
      ]
    },
    {
      "cell_type": "code",
      "source": [
        "tokenized_datasets = data.map(\n",
        "  tokenize_fn,\n",
        "  batched=True,\n",
        "  remove_columns=data[\"train\"].column_names,\n",
        ")"
      ],
      "metadata": {
        "colab": {
          "base_uri": "https://localhost:8080/",
          "height": 113,
          "referenced_widgets": [
            "697b69c3dc504a2a8ee18e148a8b5a7b",
            "c319db7fea504e84b5e621dba45acbb8",
            "48b2882f4d484f1db1a9b3fb1e9eb8da",
            "aeb3bea299264a8499638079dea41077",
            "53a84e1b1e6145c89af34d0c34657a12",
            "26fc1d668e1f478081ddba7a6fdf49fb",
            "34203ba84e30433ea11484a224dfff80",
            "23ae4d220b3a4f42a199bc728c38d1e2",
            "e4b56b4d6dc54f26b28af8689e7b411e",
            "8ffe3de406e54ecea9b30b789d7dd958",
            "66101389a60a4422a1633d2ae29f9662",
            "efcb2207388448b3ae95822035454e5b",
            "a740393490d94a2787f789d252ea6c05",
            "07bdfe8ada6b464aa56047c9e6f51057",
            "11d1818875564a05967eb0c783b10b46",
            "d6f9c34c74664287a468e8d91aa2bd25",
            "9add1e791182416ca259169beeb95db5",
            "7925171c3b5744d3ba498f90663c0473",
            "998791d28b2d4c8d91563110f052dbbe",
            "2a4889248333407faeea34a3a47e9a6e",
            "90354103897743a4bcd1925110b2647a",
            "c22fe0f9db484e22b5be1b30189e1f55",
            "49c8898ce67f4a61b542268aa0b5b70d",
            "4710d56af07b4836a7efd4fc253b3473",
            "8d73c048e1c2414b9c22cb83561baad1",
            "fcd4ca6331ac423980a07ad9c52f4234",
            "06a0ded8f1b84788bf17c09505dd9476",
            "abb900d5b7894563878c8ae25f67c017",
            "874bd1fe522247e59d1e19edd36bdee3",
            "267c8e769a674e05ac1633f584a64aaf",
            "94d4cdab193a42999912654857ffd4e0",
            "fefa636328f644eab8750654e975c80c",
            "21a17fe50c4040d5a0f08a87d8f71a2c"
          ]
        },
        "id": "n836ZzzERC2S",
        "outputId": "34f4cdb0-ae8c-4b29-831b-3963f58638c0"
      },
      "execution_count": 47,
      "outputs": [
        {
          "output_type": "display_data",
          "data": {
            "text/plain": [
              "Map:   0%|          | 0/5433 [00:00<?, ? examples/s]"
            ],
            "application/vnd.jupyter.widget-view+json": {
              "version_major": 2,
              "version_minor": 0,
              "model_id": "697b69c3dc504a2a8ee18e148a8b5a7b"
            }
          },
          "metadata": {}
        },
        {
          "output_type": "display_data",
          "data": {
            "text/plain": [
              "Map:   0%|          | 0/924 [00:00<?, ? examples/s]"
            ],
            "application/vnd.jupyter.widget-view+json": {
              "version_major": 2,
              "version_minor": 0,
              "model_id": "efcb2207388448b3ae95822035454e5b"
            }
          },
          "metadata": {}
        },
        {
          "output_type": "display_data",
          "data": {
            "text/plain": [
              "Map:   0%|          | 0/941 [00:00<?, ? examples/s]"
            ],
            "application/vnd.jupyter.widget-view+json": {
              "version_major": 2,
              "version_minor": 0,
              "model_id": "49c8898ce67f4a61b542268aa0b5b70d"
            }
          },
          "metadata": {}
        }
      ]
    },
    {
      "cell_type": "code",
      "source": [
        "tokenized_datasets"
      ],
      "metadata": {
        "colab": {
          "base_uri": "https://localhost:8080/"
        },
        "id": "rfzKb3R7RNbM",
        "outputId": "306a0b84-ff67-41d6-f78f-05bef672e737"
      },
      "execution_count": null,
      "outputs": [
        {
          "output_type": "execute_result",
          "data": {
            "text/plain": [
              "DatasetDict({\n",
              "    train: Dataset({\n",
              "        features: ['input_ids', 'attention_mask', 'labels'],\n",
              "        num_rows: 5433\n",
              "    })\n",
              "    validation: Dataset({\n",
              "        features: ['input_ids', 'attention_mask', 'labels'],\n",
              "        num_rows: 924\n",
              "    })\n",
              "    test: Dataset({\n",
              "        features: ['input_ids', 'attention_mask', 'labels'],\n",
              "        num_rows: 941\n",
              "    })\n",
              "})"
            ]
          },
          "metadata": {},
          "execution_count": 12
        }
      ]
    },
    {
      "cell_type": "code",
      "source": [
        "from transformers import DataCollatorForTokenClassification\n",
        "\n",
        "data_collator = DataCollatorForTokenClassification(tokenizer=tokenizer)"
      ],
      "metadata": {
        "id": "TX9EDHJJRQr_"
      },
      "execution_count": 48,
      "outputs": []
    },
    {
      "cell_type": "code",
      "source": [
        "!pip install seqeval"
      ],
      "metadata": {
        "colab": {
          "base_uri": "https://localhost:8080/"
        },
        "id": "Ll7aooofR13C",
        "outputId": "e0c09f36-ce42-431c-f9ef-13b93c5514c7"
      },
      "execution_count": 51,
      "outputs": [
        {
          "output_type": "stream",
          "name": "stdout",
          "text": [
            "Collecting seqeval\n",
            "  Downloading seqeval-1.2.2.tar.gz (43 kB)\n",
            "\u001b[?25l     \u001b[90m━━━━━━━━━━━━━━━━━━━━━━━━━━━━━━━━━━━━━━━━\u001b[0m \u001b[32m0.0/43.6 kB\u001b[0m \u001b[31m?\u001b[0m eta \u001b[36m-:--:--\u001b[0m\r\u001b[2K     \u001b[90m━━━━━━━━━━━━━━━━━━━━━━━━━━━━━━━━━━━━━━━━\u001b[0m \u001b[32m43.6/43.6 kB\u001b[0m \u001b[31m1.3 MB/s\u001b[0m eta \u001b[36m0:00:00\u001b[0m\n",
            "\u001b[?25h  Preparing metadata (setup.py) ... \u001b[?25l\u001b[?25hdone\n",
            "Requirement already satisfied: numpy>=1.14.0 in /usr/local/lib/python3.10/dist-packages (from seqeval) (1.23.5)\n",
            "Requirement already satisfied: scikit-learn>=0.21.3 in /usr/local/lib/python3.10/dist-packages (from seqeval) (1.2.2)\n",
            "Requirement already satisfied: scipy>=1.3.2 in /usr/local/lib/python3.10/dist-packages (from scikit-learn>=0.21.3->seqeval) (1.11.3)\n",
            "Requirement already satisfied: joblib>=1.1.1 in /usr/local/lib/python3.10/dist-packages (from scikit-learn>=0.21.3->seqeval) (1.3.2)\n",
            "Requirement already satisfied: threadpoolctl>=2.0.0 in /usr/local/lib/python3.10/dist-packages (from scikit-learn>=0.21.3->seqeval) (3.2.0)\n",
            "Building wheels for collected packages: seqeval\n",
            "  Building wheel for seqeval (setup.py) ... \u001b[?25l\u001b[?25hdone\n",
            "  Created wheel for seqeval: filename=seqeval-1.2.2-py3-none-any.whl size=16161 sha256=5ae5a51f78ede69da4bb2765b3d6866f549b630f7f3f9e03e71e08f09822bc4d\n",
            "  Stored in directory: /root/.cache/pip/wheels/1a/67/4a/ad4082dd7dfc30f2abfe4d80a2ed5926a506eb8a972b4767fa\n",
            "Successfully built seqeval\n",
            "Installing collected packages: seqeval\n",
            "Successfully installed seqeval-1.2.2\n"
          ]
        }
      ]
    },
    {
      "cell_type": "code",
      "source": [
        "from datasets import load_metric\n",
        "\n",
        "metric = load_metric(\"seqeval\")"
      ],
      "metadata": {
        "id": "bpRML11nR5Pi"
      },
      "execution_count": 52,
      "outputs": []
    },
    {
      "cell_type": "code",
      "source": [
        "# test it out\n",
        "metric.compute(\n",
        "    predictions=[['O', 'O', 'I-ORG', 'B-MISC']],\n",
        "    references=[['O', 'B-ORG', 'I-ORG', 'B-MISC']])"
      ],
      "metadata": {
        "colab": {
          "base_uri": "https://localhost:8080/"
        },
        "id": "Q9ydVmQ-R8oQ",
        "outputId": "eea9450a-2e62-437c-d6ba-a6160c8bf3f5"
      },
      "execution_count": 53,
      "outputs": [
        {
          "output_type": "execute_result",
          "data": {
            "text/plain": [
              "{'MISC': {'precision': 1.0, 'recall': 1.0, 'f1': 1.0, 'number': 1},\n",
              " 'ORG': {'precision': 0.0, 'recall': 0.0, 'f1': 0.0, 'number': 1},\n",
              " 'overall_precision': 0.5,\n",
              " 'overall_recall': 0.5,\n",
              " 'overall_f1': 0.5,\n",
              " 'overall_accuracy': 0.75}"
            ]
          },
          "metadata": {},
          "execution_count": 53
        }
      ]
    },
    {
      "cell_type": "code",
      "source": [
        "import numpy as np\n",
        "\n",
        "def compute_metrics(logits_and_labels):\n",
        "  logits, labels = logits_and_labels\n",
        "  preds = np.argmax(logits, axis=-1)\n",
        "\n",
        "  # remove -100 from labels and predictions\n",
        "  # and convert the label_ids to label names\n",
        "  str_labels = [\n",
        "    [label_names[t] for t in label if t != -100] for label in labels\n",
        "  ]\n",
        "\n",
        "  # do the same for predictions whenever true label is -100\n",
        "  str_preds = [\n",
        "    [label_names[p] for p, t in zip(pred, targ) if t != -100] \\\n",
        "      for pred, targ in zip(preds, labels)\n",
        "  ]\n",
        "\n",
        "  the_metrics = metric.compute(predictions=str_preds, references=str_labels)\n",
        "  return {\n",
        "    'precision': the_metrics['overall_precision'],\n",
        "    'recall': the_metrics['overall_recall'],\n",
        "    'f1': the_metrics['overall_f1'],\n",
        "    'accuracy': the_metrics['overall_accuracy'],\n",
        "  }"
      ],
      "metadata": {
        "id": "DqYsgceXSGaV"
      },
      "execution_count": 54,
      "outputs": []
    },
    {
      "cell_type": "code",
      "source": [
        "id2label = {k: v for k, v in enumerate(label_names)}\n",
        "label2id = {v: k for k, v in id2label.items()}"
      ],
      "metadata": {
        "id": "2diUTrptSYuh"
      },
      "execution_count": 55,
      "outputs": []
    },
    {
      "cell_type": "code",
      "source": [
        "from transformers import AutoModelForTokenClassification\n",
        "\n",
        "model = AutoModelForTokenClassification.from_pretrained(\n",
        "    checkpoint,\n",
        "    id2label=id2label,\n",
        "    label2id=label2id,\n",
        ")"
      ],
      "metadata": {
        "colab": {
          "base_uri": "https://localhost:8080/",
          "height": 104,
          "referenced_widgets": [
            "00fcb9a12c34452ea033982ed9b8dcd5",
            "88b03aa01dac4d1d84a3fbeec9f68bd4",
            "77fa3518677c428791453fa7c406dea0",
            "2ffe063a53104eb79e23c8936c0401e3",
            "90161b4fca254ccda3c4b78733754386",
            "d553d2ac06ca48278e12d0858ec48227",
            "5f78cc88047e4a8fbb573cef8a20b076",
            "65514a2f28a14be9b28a1e06f37d5e17",
            "4e4171ebda384e83b0b7034a8970123d",
            "073c6b25bf2f4d07aea2c638bb9a5601",
            "204fb69bd70e45e38ea2c8694cb2598a"
          ]
        },
        "id": "pt-9xJelSZQk",
        "outputId": "b17f8ea7-0a03-4a07-ba3f-8c5f0406553e"
      },
      "execution_count": null,
      "outputs": [
        {
          "output_type": "display_data",
          "data": {
            "text/plain": [
              "model.safetensors:   0%|          | 0.00/263M [00:00<?, ?B/s]"
            ],
            "application/vnd.jupyter.widget-view+json": {
              "version_major": 2,
              "version_minor": 0,
              "model_id": "00fcb9a12c34452ea033982ed9b8dcd5"
            }
          },
          "metadata": {}
        },
        {
          "output_type": "stream",
          "name": "stderr",
          "text": [
            "Some weights of DistilBertForTokenClassification were not initialized from the model checkpoint at distilbert-base-cased and are newly initialized: ['classifier.bias', 'classifier.weight']\n",
            "You should probably TRAIN this model on a down-stream task to be able to use it for predictions and inference.\n"
          ]
        }
      ]
    },
    {
      "cell_type": "code",
      "source": [
        "from transformers import TrainingArguments\n",
        "\n",
        "training_args = TrainingArguments(\n",
        "    \"distilbert-finetuned-ner\",\n",
        "    evaluation_strategy=\"epoch\",\n",
        "    save_strategy=\"epoch\",\n",
        "    learning_rate=2e-5,\n",
        "    num_train_epochs=4,\n",
        "    weight_decay=0.01,\n",
        ")"
      ],
      "metadata": {
        "id": "3XBYOuaeSdAS"
      },
      "execution_count": null,
      "outputs": []
    },
    {
      "cell_type": "code",
      "source": [
        "from transformers import Trainer\n",
        "\n",
        "trainer = Trainer(\n",
        "    model=model,\n",
        "    args=training_args,\n",
        "    train_dataset=tokenized_datasets[\"train\"],\n",
        "    eval_dataset=tokenized_datasets[\"validation\"],\n",
        "    data_collator=data_collator,\n",
        "    compute_metrics=compute_metrics,\n",
        "    tokenizer=tokenizer,\n",
        ")\n",
        "trainer.train()"
      ],
      "metadata": {
        "colab": {
          "base_uri": "https://localhost:8080/",
          "height": 273
        },
        "id": "qaWrxwHISsV2",
        "outputId": "9ba70c4d-3be1-49bb-8f87-78185d8a3479"
      },
      "execution_count": null,
      "outputs": [
        {
          "output_type": "stream",
          "name": "stderr",
          "text": [
            "You're using a DistilBertTokenizerFast tokenizer. Please note that with a fast tokenizer, using the `__call__` method is faster than using a method to encode the text followed by a call to the `pad` method to get a padded encoding.\n"
          ]
        },
        {
          "output_type": "display_data",
          "data": {
            "text/plain": [
              "<IPython.core.display.HTML object>"
            ],
            "text/html": [
              "\n",
              "    <div>\n",
              "      \n",
              "      <progress value='2720' max='2720' style='width:300px; height:20px; vertical-align: middle;'></progress>\n",
              "      [2720/2720 2:20:00, Epoch 4/4]\n",
              "    </div>\n",
              "    <table border=\"1\" class=\"dataframe\">\n",
              "  <thead>\n",
              " <tr style=\"text-align: left;\">\n",
              "      <th>Epoch</th>\n",
              "      <th>Training Loss</th>\n",
              "      <th>Validation Loss</th>\n",
              "      <th>Precision</th>\n",
              "      <th>Recall</th>\n",
              "      <th>F1</th>\n",
              "      <th>Accuracy</th>\n",
              "    </tr>\n",
              "  </thead>\n",
              "  <tbody>\n",
              "    <tr>\n",
              "      <td>1</td>\n",
              "      <td>0.125100</td>\n",
              "      <td>0.064580</td>\n",
              "      <td>0.716648</td>\n",
              "      <td>0.825921</td>\n",
              "      <td>0.767414</td>\n",
              "      <td>0.979584</td>\n",
              "    </tr>\n",
              "    <tr>\n",
              "      <td>2</td>\n",
              "      <td>0.052900</td>\n",
              "      <td>0.063688</td>\n",
              "      <td>0.803238</td>\n",
              "      <td>0.819568</td>\n",
              "      <td>0.811321</td>\n",
              "      <td>0.983599</td>\n",
              "    </tr>\n",
              "    <tr>\n",
              "      <td>3</td>\n",
              "      <td>0.020300</td>\n",
              "      <td>0.071772</td>\n",
              "      <td>0.793839</td>\n",
              "      <td>0.851334</td>\n",
              "      <td>0.821582</td>\n",
              "      <td>0.983194</td>\n",
              "    </tr>\n",
              "    <tr>\n",
              "      <td>4</td>\n",
              "      <td>0.010700</td>\n",
              "      <td>0.076428</td>\n",
              "      <td>0.798339</td>\n",
              "      <td>0.855146</td>\n",
              "      <td>0.825767</td>\n",
              "      <td>0.983723</td>\n",
              "    </tr>\n",
              "  </tbody>\n",
              "</table><p>"
            ]
          },
          "metadata": {}
        },
        {
          "output_type": "execute_result",
          "data": {
            "text/plain": [
              "TrainOutput(global_step=2720, training_loss=0.04493667930364609, metrics={'train_runtime': 8403.484, 'train_samples_per_second': 2.586, 'train_steps_per_second': 0.324, 'total_flos': 351102360215700.0, 'train_loss': 0.04493667930364609, 'epoch': 4.0})"
            ]
          },
          "metadata": {},
          "execution_count": 33
        }
      ]
    },
    {
      "cell_type": "code",
      "source": [
        "!ls distilbert-finetuned-ner"
      ],
      "metadata": {
        "colab": {
          "base_uri": "https://localhost:8080/"
        },
        "id": "IoDR6-pAs0vB",
        "outputId": "bcd31668-4bf5-4cf4-f6e5-310797456829"
      },
      "execution_count": null,
      "outputs": [
        {
          "output_type": "stream",
          "name": "stdout",
          "text": [
            "checkpoint-1360  checkpoint-2040  checkpoint-2720  checkpoint-680  runs\n"
          ]
        }
      ]
    },
    {
      "cell_type": "code",
      "source": [
        "trainer.save_model('bert-disease-ner')"
      ],
      "metadata": {
        "id": "opzss4jLtRWq"
      },
      "execution_count": null,
      "outputs": []
    },
    {
      "cell_type": "code",
      "source": [
        "!zip -r /content/file.zip /content/bert-disease-ner/"
      ],
      "metadata": {
        "colab": {
          "base_uri": "https://localhost:8080/"
        },
        "id": "yQesCQm6zW0-",
        "outputId": "47a3bed0-5851-4883-cd0c-57b97a4347db"
      },
      "execution_count": null,
      "outputs": [
        {
          "output_type": "stream",
          "name": "stdout",
          "text": [
            "\n",
            "zip error: Nothing to do! (try: zip -r /content/file.zip . -i /content/bert-disease-ner/)\n"
          ]
        }
      ]
    },
    {
      "cell_type": "code",
      "source": [
        "import shutil\n",
        "shutil.unpack_archive('file.zip', '/content')"
      ],
      "metadata": {
        "id": "nVDT3B4zaY9a"
      },
      "execution_count": null,
      "outputs": []
    },
    {
      "cell_type": "code",
      "source": [
        "from transformers import pipeline"
      ],
      "metadata": {
        "id": "k-ekI3uQtB5T"
      },
      "execution_count": 18,
      "outputs": []
    },
    {
      "cell_type": "code",
      "source": [
        "from transformers import AutoTokenizer"
      ],
      "metadata": {
        "id": "0MUqz_xAcZ13"
      },
      "execution_count": 15,
      "outputs": []
    },
    {
      "cell_type": "code",
      "source": [
        "tokenizerr = AutoTokenizer.from_pretrained('content/bert-disease-ner')"
      ],
      "metadata": {
        "id": "8mapsMTZchdv"
      },
      "execution_count": 26,
      "outputs": []
    },
    {
      "cell_type": "code",
      "source": [
        "ner = pipeline(\n",
        "  \"token-classification\",\n",
        "  model='content/bert-disease-ner',\n",
        "  aggregation_strategy=\"simple\",\n",
        ")"
      ],
      "metadata": {
        "id": "YcYJC4natFNp"
      },
      "execution_count": 95,
      "outputs": []
    },
    {
      "cell_type": "code",
      "source": [
        "idx = 99\n",
        "tokenized_1 = tokenizerr(data['test'][idx]['tokens'], is_split_into_words=True)\n",
        "tokenized_1"
      ],
      "metadata": {
        "colab": {
          "base_uri": "https://localhost:8080/"
        },
        "id": "DeDm80QJfuep",
        "outputId": "2e9cc036-1df8-444e-fc53-234b6a3e6582"
      },
      "execution_count": 60,
      "outputs": [
        {
          "output_type": "execute_result",
          "data": {
            "text/plain": [
              "{'input_ids': [101, 1109, 9117, 1104, 1103, 1248, 17895, 1348, 1856, 1107, 1275, 113, 3887, 110, 114, 24309, 23497, 22216, 11680, 120, 24062, 1658, 1475, 1112, 170, 1514, 1107, 11179, 16617, 4010, 1104, 1275, 4426, 2445, 1107, 188, 27695, 5250, 19596, 4182, 119, 119, 102], 'attention_mask': [1, 1, 1, 1, 1, 1, 1, 1, 1, 1, 1, 1, 1, 1, 1, 1, 1, 1, 1, 1, 1, 1, 1, 1, 1, 1, 1, 1, 1, 1, 1, 1, 1, 1, 1, 1, 1, 1, 1, 1, 1, 1, 1]}"
            ]
          },
          "metadata": {},
          "execution_count": 60
        }
      ]
    },
    {
      "cell_type": "code",
      "source": [
        "\" \".join(tokenized_1.tokens())"
      ],
      "metadata": {
        "colab": {
          "base_uri": "https://localhost:8080/",
          "height": 53
        },
        "id": "NTqR8yS9rgiB",
        "outputId": "e964d1c6-0af7-40f7-a418-df3b5b2c6ca6"
      },
      "execution_count": 61,
      "outputs": [
        {
          "output_type": "execute_result",
          "data": {
            "text/plain": [
              "'[CLS] The identification of the second mutation ##al event in 10 ( 43 % ) tumors establishes PT ##EN / MMA ##C ##1 as a main in ##act ##ivation target of 10 ##q loss in s ##poradic pro ##state cancer . . [SEP]'"
            ],
            "application/vnd.google.colaboratory.intrinsic+json": {
              "type": "string"
            }
          },
          "metadata": {},
          "execution_count": 61
        }
      ]
    },
    {
      "cell_type": "code",
      "source": [
        "labels = data['test'][idx]['ner_tags']\n",
        "labels"
      ],
      "metadata": {
        "colab": {
          "base_uri": "https://localhost:8080/"
        },
        "id": "ewDJ-qwirvj6",
        "outputId": "68224bb5-a77a-412d-b567-e6b4038c9091"
      },
      "execution_count": 62,
      "outputs": [
        {
          "output_type": "execute_result",
          "data": {
            "text/plain": [
              "[0,\n",
              " 0,\n",
              " 0,\n",
              " 0,\n",
              " 0,\n",
              " 0,\n",
              " 0,\n",
              " 0,\n",
              " 0,\n",
              " 0,\n",
              " 0,\n",
              " 0,\n",
              " 0,\n",
              " 1,\n",
              " 0,\n",
              " 0,\n",
              " 0,\n",
              " 0,\n",
              " 0,\n",
              " 0,\n",
              " 0,\n",
              " 0,\n",
              " 0,\n",
              " 0,\n",
              " 0,\n",
              " 0,\n",
              " 0,\n",
              " 1,\n",
              " 2,\n",
              " 2,\n",
              " 0,\n",
              " 0]"
            ]
          },
          "metadata": {},
          "execution_count": 62
        }
      ]
    },
    {
      "cell_type": "code",
      "source": [
        "word_ids = tokenized_1.word_ids()"
      ],
      "metadata": {
        "id": "U0eTaATPqqh4"
      },
      "execution_count": 63,
      "outputs": []
    },
    {
      "cell_type": "code",
      "source": [
        "aligned_labels = []\n",
        "last_word = None\n",
        "\n",
        "for word in word_ids:\n",
        "\n",
        "  if word is None: # [CLS] or [SEP] tokens\n",
        "    label = -100\n",
        "\n",
        "  elif word != last_word: # New word (word ID different from previous)\n",
        "    label = labels[word]\n",
        "\n",
        "  else: # Same word as before\n",
        "    label = labels[word]\n",
        "\n",
        "    if label in begin2inside:\n",
        "      label = begin2inside[label]\n",
        "\n",
        "  aligned_labels.append(label) # Add the label\n",
        "  last_word = word # Update last word"
      ],
      "metadata": {
        "id": "C7AJUOnoBXp8"
      },
      "execution_count": 64,
      "outputs": []
    },
    {
      "cell_type": "code",
      "source": [
        "# try our function\n",
        "labels = data['test'][idx]['ner_tags']\n",
        "word_ids = tokenized_1.word_ids()\n",
        "aligned_targets = align_targets(labels, word_ids)\n",
        "print(aligned_targets)\n",
        "print([id2label[x] for x in aligned_targets if x != -100])"
      ],
      "metadata": {
        "colab": {
          "base_uri": "https://localhost:8080/"
        },
        "id": "2JJyQ91pf7Qn",
        "outputId": "d04b575c-21de-4b41-c6e1-b47f8b9b6361"
      },
      "execution_count": 65,
      "outputs": [
        {
          "output_type": "stream",
          "name": "stdout",
          "text": [
            "[-100, 0, 0, 0, 0, 0, 0, 0, 0, 0, 0, 0, 0, 0, 0, 1, 0, 0, 0, 0, 0, 0, 0, 0, 0, 0, 0, 0, 0, 0, 0, 0, 0, 0, 0, 1, 2, 2, 2, 2, 0, 0, -100]\n",
            "['O', 'O', 'O', 'O', 'O', 'O', 'O', 'O', 'O', 'O', 'O', 'O', 'O', 'O', 'B-Disease', 'O', 'O', 'O', 'O', 'O', 'O', 'O', 'O', 'O', 'O', 'O', 'O', 'O', 'O', 'O', 'O', 'O', 'O', 'O', 'B-Disease', 'I-Disease', 'I-Disease', 'I-Disease', 'I-Disease', 'O', 'O']\n"
          ]
        }
      ]
    },
    {
      "cell_type": "code",
      "source": [
        "true_labels = [id2label[x] for x in aligned_targets if x != -100]"
      ],
      "metadata": {
        "id": "6nz15p_-os_7"
      },
      "execution_count": 66,
      "outputs": []
    },
    {
      "cell_type": "code",
      "source": [
        "dict(zip(tokenized_1.tokens()[1:-1], true_labels))"
      ],
      "metadata": {
        "colab": {
          "base_uri": "https://localhost:8080/"
        },
        "id": "lbrGzj0NgDHz",
        "outputId": "75203d0e-21c9-46f2-8c7e-9e290c3bdbbb"
      },
      "execution_count": 67,
      "outputs": [
        {
          "output_type": "execute_result",
          "data": {
            "text/plain": [
              "{'The': 'O',\n",
              " 'identification': 'O',\n",
              " 'of': 'O',\n",
              " 'the': 'O',\n",
              " 'second': 'O',\n",
              " 'mutation': 'O',\n",
              " '##al': 'O',\n",
              " 'event': 'O',\n",
              " 'in': 'O',\n",
              " '10': 'O',\n",
              " '(': 'O',\n",
              " '43': 'O',\n",
              " '%': 'O',\n",
              " ')': 'O',\n",
              " 'tumors': 'B-Disease',\n",
              " 'establishes': 'O',\n",
              " 'PT': 'O',\n",
              " '##EN': 'O',\n",
              " '/': 'O',\n",
              " 'MMA': 'O',\n",
              " '##C': 'O',\n",
              " '##1': 'O',\n",
              " 'as': 'O',\n",
              " 'a': 'O',\n",
              " 'main': 'O',\n",
              " '##act': 'O',\n",
              " '##ivation': 'O',\n",
              " 'target': 'O',\n",
              " '##q': 'O',\n",
              " 'loss': 'O',\n",
              " 's': 'B-Disease',\n",
              " '##poradic': 'I-Disease',\n",
              " 'pro': 'I-Disease',\n",
              " '##state': 'I-Disease',\n",
              " 'cancer': 'I-Disease',\n",
              " '.': 'O'}"
            ]
          },
          "metadata": {},
          "execution_count": 67
        }
      ]
    },
    {
      "cell_type": "code",
      "source": [
        "text = \" \".join(data['test'][idx]['tokens'])\n",
        "text"
      ],
      "metadata": {
        "colab": {
          "base_uri": "https://localhost:8080/",
          "height": 53
        },
        "id": "V-aP_Po4hFOm",
        "outputId": "0d7d28c3-b642-4916-b8b5-3cae8c7cf668"
      },
      "execution_count": 68,
      "outputs": [
        {
          "output_type": "execute_result",
          "data": {
            "text/plain": [
              "'The identification of the second mutational event in 10 ( 43 % ) tumors establishes PTEN / MMAC1 as a main inactivation target of 10q loss in sporadic prostate cancer . .'"
            ],
            "application/vnd.google.colaboratory.intrinsic+json": {
              "type": "string"
            }
          },
          "metadata": {},
          "execution_count": 68
        }
      ]
    },
    {
      "cell_type": "code",
      "source": [
        "w_l = []\n",
        "e_l = []\n",
        "\n",
        "for x in ner(text):\n",
        "  w_l.append(x['word'])\n",
        "  e_l.append(x['entity'])\n",
        "\n",
        "super_labels = dict(zip(w_l, e_l))\n",
        "super_labels"
      ],
      "metadata": {
        "colab": {
          "base_uri": "https://localhost:8080/"
        },
        "id": "RsJEC-ESgJqQ",
        "outputId": "bf4dcf6f-007b-4be1-8794-6b3b21506639"
      },
      "execution_count": 69,
      "outputs": [
        {
          "output_type": "execute_result",
          "data": {
            "text/plain": [
              "{'tumors': 'B-Disease',\n",
              " 's': 'B-Disease',\n",
              " '##poradic': 'I-Disease',\n",
              " 'pro': 'I-Disease',\n",
              " '##state': 'I-Disease',\n",
              " 'cancer': 'I-Disease'}"
            ]
          },
          "metadata": {},
          "execution_count": 69
        }
      ]
    },
    {
      "cell_type": "code",
      "source": [
        "pred_labels = []\n",
        "\n",
        "for word in tokenized_1.tokens():\n",
        "  if word in super_labels.keys():\n",
        "    pred_labels.append(super_labels[word])\n",
        "  elif word in [\"[CLS]\", '[SEP]']:\n",
        "    continue\n",
        "  else:\n",
        "    pred_labels.append(\"O\")\n",
        "\n",
        "pred_labels"
      ],
      "metadata": {
        "colab": {
          "base_uri": "https://localhost:8080/"
        },
        "id": "tocdHKnZgbz-",
        "outputId": "5860c120-eebd-4dc6-ad3c-9aa950244e51"
      },
      "execution_count": 70,
      "outputs": [
        {
          "output_type": "execute_result",
          "data": {
            "text/plain": [
              "['O',\n",
              " 'O',\n",
              " 'O',\n",
              " 'O',\n",
              " 'O',\n",
              " 'O',\n",
              " 'O',\n",
              " 'O',\n",
              " 'O',\n",
              " 'O',\n",
              " 'O',\n",
              " 'O',\n",
              " 'O',\n",
              " 'O',\n",
              " 'B-Disease',\n",
              " 'O',\n",
              " 'O',\n",
              " 'O',\n",
              " 'O',\n",
              " 'O',\n",
              " 'O',\n",
              " 'O',\n",
              " 'O',\n",
              " 'O',\n",
              " 'O',\n",
              " 'O',\n",
              " 'O',\n",
              " 'O',\n",
              " 'O',\n",
              " 'O',\n",
              " 'O',\n",
              " 'O',\n",
              " 'O',\n",
              " 'O',\n",
              " 'B-Disease',\n",
              " 'I-Disease',\n",
              " 'I-Disease',\n",
              " 'I-Disease',\n",
              " 'I-Disease',\n",
              " 'O',\n",
              " 'O']"
            ]
          },
          "metadata": {},
          "execution_count": 70
        }
      ]
    },
    {
      "cell_type": "code",
      "source": [
        "dict(zip(tokenized_1.tokens()[1:-1], pred_labels))"
      ],
      "metadata": {
        "colab": {
          "base_uri": "https://localhost:8080/"
        },
        "id": "epyrwxzuolg-",
        "outputId": "98f709e3-2caf-470d-ae0b-2e37e6e78843"
      },
      "execution_count": 71,
      "outputs": [
        {
          "output_type": "execute_result",
          "data": {
            "text/plain": [
              "{'The': 'O',\n",
              " 'identification': 'O',\n",
              " 'of': 'O',\n",
              " 'the': 'O',\n",
              " 'second': 'O',\n",
              " 'mutation': 'O',\n",
              " '##al': 'O',\n",
              " 'event': 'O',\n",
              " 'in': 'O',\n",
              " '10': 'O',\n",
              " '(': 'O',\n",
              " '43': 'O',\n",
              " '%': 'O',\n",
              " ')': 'O',\n",
              " 'tumors': 'B-Disease',\n",
              " 'establishes': 'O',\n",
              " 'PT': 'O',\n",
              " '##EN': 'O',\n",
              " '/': 'O',\n",
              " 'MMA': 'O',\n",
              " '##C': 'O',\n",
              " '##1': 'O',\n",
              " 'as': 'O',\n",
              " 'a': 'O',\n",
              " 'main': 'O',\n",
              " '##act': 'O',\n",
              " '##ivation': 'O',\n",
              " 'target': 'O',\n",
              " '##q': 'O',\n",
              " 'loss': 'O',\n",
              " 's': 'B-Disease',\n",
              " '##poradic': 'I-Disease',\n",
              " 'pro': 'I-Disease',\n",
              " '##state': 'I-Disease',\n",
              " 'cancer': 'I-Disease',\n",
              " '.': 'O'}"
            ]
          },
          "metadata": {},
          "execution_count": 71
        }
      ]
    },
    {
      "cell_type": "code",
      "source": [
        "true_labels = [id2label[x] for x in aligned_targets if x != -100]"
      ],
      "metadata": {
        "id": "6twoLiIRllXx"
      },
      "execution_count": 72,
      "outputs": []
    },
    {
      "cell_type": "code",
      "source": [
        "metric.compute(\n",
        "    predictions=[pred_labels],\n",
        "    references=[true_labels])"
      ],
      "metadata": {
        "colab": {
          "base_uri": "https://localhost:8080/"
        },
        "id": "qNQQIxtjluqW",
        "outputId": "f63058d9-ac1e-492c-b355-f278cca93f2e"
      },
      "execution_count": 73,
      "outputs": [
        {
          "output_type": "execute_result",
          "data": {
            "text/plain": [
              "{'Disease': {'precision': 1.0, 'recall': 1.0, 'f1': 1.0, 'number': 2},\n",
              " 'overall_precision': 1.0,\n",
              " 'overall_recall': 1.0,\n",
              " 'overall_f1': 1.0,\n",
              " 'overall_accuracy': 1.0}"
            ]
          },
          "metadata": {},
          "execution_count": 73
        }
      ]
    },
    {
      "cell_type": "code",
      "source": [
        "print(true_labels)\n",
        "print(pred_labels)"
      ],
      "metadata": {
        "colab": {
          "base_uri": "https://localhost:8080/"
        },
        "id": "bG7rB2BMmCFR",
        "outputId": "a2fde107-9230-4245-d4a1-d5f8fa58bfca"
      },
      "execution_count": 74,
      "outputs": [
        {
          "output_type": "stream",
          "name": "stdout",
          "text": [
            "['O', 'O', 'O', 'O', 'O', 'O', 'O', 'O', 'O', 'O', 'O', 'O', 'O', 'O', 'B-Disease', 'O', 'O', 'O', 'O', 'O', 'O', 'O', 'O', 'O', 'O', 'O', 'O', 'O', 'O', 'O', 'O', 'O', 'O', 'O', 'B-Disease', 'I-Disease', 'I-Disease', 'I-Disease', 'I-Disease', 'O', 'O']\n",
            "['O', 'O', 'O', 'O', 'O', 'O', 'O', 'O', 'O', 'O', 'O', 'O', 'O', 'O', 'B-Disease', 'O', 'O', 'O', 'O', 'O', 'O', 'O', 'O', 'O', 'O', 'O', 'O', 'O', 'O', 'O', 'O', 'O', 'O', 'O', 'B-Disease', 'I-Disease', 'I-Disease', 'I-Disease', 'I-Disease', 'O', 'O']\n"
          ]
        }
      ]
    },
    {
      "cell_type": "code",
      "source": [
        "import spacy\n",
        "from spacy import displacy"
      ],
      "metadata": {
        "id": "J5JFonXbXPTZ"
      },
      "execution_count": 76,
      "outputs": []
    },
    {
      "cell_type": "code",
      "source": [
        "x = ner(\" \".join(data['test'][0]['tokens']))\n",
        "x"
      ],
      "metadata": {
        "colab": {
          "base_uri": "https://localhost:8080/"
        },
        "id": "zawtv6HbcOiI",
        "outputId": "a665d448-2df5-4790-bc75-a5f19181f9de"
      },
      "execution_count": 97,
      "outputs": [
        {
          "output_type": "execute_result",
          "data": {
            "text/plain": [
              "[{'entity_group': 'Disease',\n",
              "  'score': 0.99978226,\n",
              "  'word': 'ataxia - telangiectasia',\n",
              "  'start': 40,\n",
              "  'end': 63},\n",
              " {'entity_group': 'Disease',\n",
              "  'score': 0.9911315,\n",
              "  'word': 'T - cell leukaemia',\n",
              "  'start': 83,\n",
              "  'end': 101}]"
            ]
          },
          "metadata": {},
          "execution_count": 97
        }
      ]
    },
    {
      "cell_type": "code",
      "source": [
        "# Assuming 'x' contains the output of your NER model\n",
        "entities = [\n",
        "    {\n",
        "        \"start\": entity[\"start\"],\n",
        "        \"end\": entity[\"end\"],\n",
        "        \"label\": entity[\"entity_group\"], # change key an use .split('-')[1],  # Extracting the label without the 'B-' or 'I-' prefix\n",
        "        \"text\": entity[\"word\"],\n",
        "    }\n",
        "    for entity in x\n",
        "]\n",
        "\n",
        "# Assuming your text is stored in a variable called 'text'\n",
        "text = \" \".join(data['test'][0]['tokens'])\n",
        "\n",
        "# Using displacy.render to visualize entities\n",
        "colors = {\"Disease\": \"#0FFF00\"}\n",
        "options = {\"colors\": colors}\n",
        "\n",
        "displacy.render(\n",
        "    [{\"text\": text, \"ents\": entities, \"title\": None}],\n",
        "    style=\"ent\",\n",
        "    manual=True,\n",
        "    jupyter=True,\n",
        "    options=options\n",
        ")\n"
      ],
      "metadata": {
        "colab": {
          "base_uri": "https://localhost:8080/",
          "height": 52
        },
        "id": "eVGDazwncDim",
        "outputId": "af8b13a7-714d-4ae2-e052-ce351baa4a2a"
      },
      "execution_count": 105,
      "outputs": [
        {
          "output_type": "display_data",
          "data": {
            "text/plain": [
              "<IPython.core.display.HTML object>"
            ],
            "text/html": [
              "<span class=\"tex2jax_ignore\"><div class=\"entities\" style=\"line-height: 2.5; direction: ltr\">Clustering of missense mutations in the \n",
              "<mark class=\"entity\" style=\"background: #0FFF00; padding: 0.45em 0.6em; margin: 0 0.25em; line-height: 1; border-radius: 0.35em;\">\n",
              "    ataxia - telangiectasia\n",
              "    <span style=\"font-size: 0.8em; font-weight: bold; line-height: 1; border-radius: 0.35em; vertical-align: middle; margin-left: 0.5rem\">Disease</span>\n",
              "</mark>\n",
              " gene in a sporadic \n",
              "<mark class=\"entity\" style=\"background: #0FFF00; padding: 0.45em 0.6em; margin: 0 0.25em; line-height: 1; border-radius: 0.35em;\">\n",
              "    T - cell leukaemia\n",
              "    <span style=\"font-size: 0.8em; font-weight: bold; line-height: 1; border-radius: 0.35em; vertical-align: middle; margin-left: 0.5rem\">Disease</span>\n",
              "</mark>\n",
              " .</div></span>"
            ]
          },
          "metadata": {}
        }
      ]
    },
    {
      "cell_type": "code",
      "source": [],
      "metadata": {
        "id": "jJU4zFOBeRD8"
      },
      "execution_count": null,
      "outputs": []
    }
  ]
}